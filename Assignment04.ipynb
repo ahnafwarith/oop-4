{
  "nbformat": 4,
  "nbformat_minor": 0,
  "metadata": {
    "colab": {
      "name": "Assignment04.ipynb",
      "provenance": [],
      "collapsed_sections": [],
      "authorship_tag": "ABX9TyNjpf7K5YSxCs4aKs0vmUnW",
      "include_colab_link": true
    },
    "kernelspec": {
      "name": "python3",
      "display_name": "Python 3"
    },
    "language_info": {
      "name": "python"
    }
  },
  "cells": [
    {
      "cell_type": "markdown",
      "metadata": {
        "id": "view-in-github",
        "colab_type": "text"
      },
      "source": [
        "<a href=\"https://colab.research.google.com/github/ahnafwarith/oop-4/blob/main/Assignment04.ipynb\" target=\"_parent\"><img src=\"https://colab.research.google.com/assets/colab-badge.svg\" alt=\"Open In Colab\"/></a>"
      ]
    },
    {
      "cell_type": "markdown",
      "source": [
        "##Task 1"
      ],
      "metadata": {
        "id": "DuCKsOefQ6DW"
      }
    },
    {
      "cell_type": "code",
      "execution_count": 9,
      "metadata": {
        "colab": {
          "base_uri": "https://localhost:8080/"
        },
        "id": "610cdr7hQCNX",
        "outputId": "8d28ee77-9490-4a5d-e373-396e611fea2d"
      },
      "outputs": [
        {
          "output_type": "stream",
          "name": "stdout",
          "text": [
            "Hello!\n",
            "Sam, you purchased 3 item(s):\n",
            "chips\n",
            "chocolate\n",
            "orange juice\n",
            "-----------------------------\n",
            "Hello David!\n",
            "Sam, you purchased 1 item(s):\n",
            "orange juice\n"
          ]
        }
      ],
      "source": [
        "class Customer:\n",
        "  def __init__(self,name):\n",
        "    self.name = name\n",
        "  \n",
        "  def greet(self,x=''):\n",
        "    if x == '':\n",
        "      print('Hello!')\n",
        "    else:\n",
        "      print(f'Hello {x}!')\n",
        "\n",
        "  def purchase(self,*items):\n",
        "    print(f'Sam, you purchased {len(items)} item(s):')\n",
        "    for i in items:\n",
        "      print(i)\n",
        "\n",
        "customer_1 = Customer(\"Sam\")\n",
        "customer_1.greet()\n",
        "customer_1.purchase(\"chips\", \"chocolate\", \"orange juice\")\n",
        "print(\"-----------------------------\")\n",
        "customer_2 = Customer(\"David\")\n",
        "customer_2.greet(\"David\")\n",
        "customer_2.purchase(\"orange juice\")\n",
        "\n",
        "# OUTPUT:\n",
        "# Hello! \n",
        "# Sam, you purchased 3 item(s): \n",
        "# chips\n",
        "# chocolate\n",
        "# orange juice\n",
        "# -----------------------------\n",
        "# Hello David!\n",
        "# David, you purchased 1 item(s): \n",
        "# orange juice"
      ]
    },
    {
      "cell_type": "markdown",
      "source": [
        "##Task 2"
      ],
      "metadata": {
        "id": "rr23L2ewQ-TR"
      }
    },
    {
      "cell_type": "code",
      "source": [
        "class Panda:\n",
        "  def __init__(s,a,b,c):\n",
        "    s.name = a\n",
        "    s.gender = b\n",
        "    s.age = c\n",
        "\n",
        "  def sleep(self,x=''):\n",
        "    if x != '':\n",
        "      if x in range(3,6):\n",
        "        food = 'Mixed Veggies'\n",
        "      elif x in range(6,10):\n",
        "        food = 'Eggplant & Tofu'\n",
        "      elif x in range(9,12):\n",
        "        food = 'Broccoli Chicken'\n",
        "      return f'{self.name} sleeps  hours daily and should have {food}'\n",
        "    else:\n",
        "      return f\"{self.name}'s duration is unknown thus should have only  bamboo leaves\"\n",
        "#Write your code here for subtasks 1-4.\n",
        " \n",
        "panda1 = Panda(\"Kunfu\",\"Male\", 5)\n",
        "panda2=Panda(\"Pan Pan\",\"Female\",3)\n",
        "panda3=Panda(\"Ming Ming\",\"Female\",8)\n",
        "\n",
        "print(\"{} is a {} Panda Bear who is {} years old\".format(panda1.name,panda1.gender,panda1.age))\n",
        "\n",
        "print(\"{} is a {} Panda Bear who is {} years old\".format(panda2.name,panda2.gender,panda2.age))\n",
        "print(\"{} is a {} Panda Bear who is {} years old\".format(panda3.name,panda3.gender,panda3.age))\n",
        "print(\"===========================\")\n",
        "print(panda2.sleep(10))\n",
        "print(panda1.sleep(4))\n",
        "print(panda3.sleep())\n",
        "\n",
        "# OUTPUT: \n",
        "# Kunfu is a Male Panda Bear who is 5 years old\n",
        "# Pan Pan is a Female Panda Bear who is 3 years old\n",
        "# Ming Ming is a Female Panda Bear who is 8 years old\n",
        "# ===========================\n",
        "# Pan Pan sleeps 10 hours daily and should have Broccoli Chicken\n",
        "# Kunfu sleeps 4 hours daily and should have Mixed Veggies\n",
        "# Ming Ming's duration is unknown thus should have only  bamboo leaves"
      ],
      "metadata": {
        "colab": {
          "base_uri": "https://localhost:8080/"
        },
        "id": "9hCPi1LYS1K1",
        "outputId": "4e4500c9-f892-4724-d872-23d9879f4983"
      },
      "execution_count": null,
      "outputs": [
        {
          "output_type": "stream",
          "name": "stdout",
          "text": [
            "Kunfu is a Male Panda Bear who is 5 years old\n",
            "Pan Pan is a Female Panda Bear who is 3 years old\n",
            "Ming Ming is a Female Panda Bear who is 8 years old\n",
            "===========================\n",
            "Pan Pan sleeps  hours daily and should have Broccoli Chicken\n",
            "Kunfu sleeps  hours daily and should have Mixed Veggies\n",
            "Ming Ming's duration is unknown thus should have only  bamboo leaves\n"
          ]
        }
      ]
    },
    {
      "cell_type": "markdown",
      "source": [
        "##Task 3"
      ],
      "metadata": {
        "id": "LCXtb4CoRdJJ"
      }
    },
    {
      "cell_type": "code",
      "source": [
        "class Cat:\n",
        "  def __init__(self,x='White',y='sitting'):\n",
        "    self.color = x\n",
        "    self.job = y\n",
        "\n",
        "  def changeColor(self,x):\n",
        "    self.color = x\n",
        "\n",
        "  def printCat(self):\n",
        "    print(f'{self.color} is {self.job}')\n",
        "  \n",
        "c1 = Cat()\n",
        "c2 = Cat(\"Black\")\n",
        "c3 = Cat(\"Brown\", \"jumping\")\n",
        "c4 = Cat(\"Red\", \"purring\")\n",
        "c1.printCat()\n",
        "c2.printCat()\n",
        "c3.printCat()\n",
        "c4.printCat()\n",
        "c1.changeColor(\"Blue\")\n",
        "c3.changeColor(\"Purple\")\n",
        "c1.printCat()\n",
        "c3.printCat()\n",
        "\n",
        "# OUTPUT\n",
        "# White cat is sitting\n",
        "# Black cat is sitting\n",
        "# Brown cat is jumping\n",
        "# Red cat is purring\n",
        "# Blue cat is sitting\n",
        "# Purple cat is jumping"
      ],
      "metadata": {
        "colab": {
          "base_uri": "https://localhost:8080/"
        },
        "id": "goSmWQqOS1fs",
        "outputId": "a2498525-eed2-4531-8b83-e3bf8fa2c611"
      },
      "execution_count": null,
      "outputs": [
        {
          "output_type": "stream",
          "name": "stdout",
          "text": [
            "White is sitting\n",
            "Black is sitting\n",
            "Brown is jumping\n",
            "Red is purring\n",
            "Blue is sitting\n",
            "Purple is jumping\n"
          ]
        }
      ]
    },
    {
      "cell_type": "markdown",
      "source": [
        "##Task 4"
      ],
      "metadata": {
        "id": "zIjsOQsZRgDX"
      }
    },
    {
      "cell_type": "code",
      "source": [
        "class Student:\n",
        "  def __init__(self,x=''):\n",
        "    if x == '':\n",
        "      print('Hello Default Student')\n",
        "    else:\n",
        "      print(f'Hello {x}')\n",
        "    self.name = x\n",
        "\n",
        "  def quizcalc(self,*nums):\n",
        "    total = 0\n",
        "    for i in nums:\n",
        "      total += i\n",
        "    self.ret = total/3\n",
        "\n",
        "  def printdetail(self):\n",
        "    print(f'Your average quiz score is {self.ret}')\n",
        "\n",
        "# Write your code here\n",
        "s1 = Student()\n",
        "s1.quizcalc(10)\n",
        "print('--------------------------------')\n",
        "s1.printdetail()\n",
        "s2 = Student('Harry')\n",
        "s2.quizcalc(10,8)\n",
        "print('--------------------------------')\n",
        "s2.printdetail()\n",
        "s3 = Student('Hermione')\n",
        "s3.quizcalc(10,9,10)\n",
        "print('--------------------------------')\n",
        "s3.printdetail() \n",
        "\n",
        "# Output\n",
        "# --------------------------------\n",
        "# Hello default student\n",
        "# Your average quiz score is 3.3333333333333335\n",
        "# --------------------------------\n",
        "# Hello Harry\n",
        "# Your average quiz score is 6.0\n",
        "# -------------------------------- \n",
        "# Hello Hermione\n",
        "# Your average quiz score is 9.666666666666666"
      ],
      "metadata": {
        "colab": {
          "base_uri": "https://localhost:8080/"
        },
        "id": "AmEyfIc1S1lw",
        "outputId": "c9a09f06-2197-49ed-b75d-9a91e4bf5983"
      },
      "execution_count": null,
      "outputs": [
        {
          "output_type": "stream",
          "name": "stdout",
          "text": [
            "Hello Default Student\n",
            "--------------------------------\n",
            "Your average quiz score is 3.3333333333333335\n",
            "Hello Harry\n",
            "--------------------------------\n",
            "Your average quiz score is 6.0\n",
            "Hello Hermione\n",
            "--------------------------------\n",
            "Your average quiz score is 9.666666666666666\n"
          ]
        }
      ]
    },
    {
      "cell_type": "markdown",
      "source": [
        "##Task 5"
      ],
      "metadata": {
        "id": "SevV1BPYRhZ_"
      }
    },
    {
      "cell_type": "code",
      "source": [
        "class Student:\n",
        "  def __init__(self,name,no,job=''):\n",
        "    self.name = name\n",
        "    self._id = no\n",
        "    self.dept = job\n",
        "\n",
        "  def dailyEffort(self,hour):\n",
        "    self.hour = hour\n",
        "  \n",
        "  def printDetails(self):\n",
        "    if self.hour <= 2:\n",
        "       sugg = 'Suggestion: Should give more effort!'\n",
        "    if self.hour <= 4:\n",
        "       sugg = 'Suggestion: Keep up the good work!'\n",
        "    else:\n",
        "      sugg = 'Suggestion: Excellent! Now motivate others.'\n",
        "\n",
        "    print(f'Name: {self.name}')\n",
        "    print(f'ID: {self._id}')\n",
        "    print(f'Department: {self.dept}')\n",
        "    print(f'Daily Effort: {self.hour} hour(s)')\n",
        "    print(f'Suggestion: {sugg}')\n",
        "\n",
        "# Write your code here.\n",
        "harry = Student('Harry Potter', 123)\n",
        "harry.dailyEffort(3)\n",
        "harry.printDetails()\t\n",
        "print('========================')\n",
        "john = Student(\"John Wick\", 456, \"BBA\")\n",
        "john.dailyEffort(2)\n",
        "john.printDetails()\n",
        "print('========================')\n",
        "naruto = Student(\"Naruto Uzumaki\", 777, \"Ninja\")\n",
        "naruto.dailyEffort(6)\n",
        "naruto.printDetails()\n",
        "\n",
        "# OUTPUT:\n",
        "# Name: Harry Potter\n",
        "# ID: 123\n",
        "# Department: CSE\n",
        "# Daily Effort: 3 hour(s)\n",
        "# Suggestion: Keep up the good work!\n",
        "# ========================\n",
        "# Name: John Wick\n",
        "# ID: 456\n",
        "# Department: BBA\n",
        "# Daily Effort: 2 hour(s)\n",
        "# Suggestion: Should give more effort!\n",
        "# ========================\n",
        "# Name: Naruto Uzumaki\n",
        "# ID: 777\n",
        "# Department: Ninja\n",
        "# Daily Effort: 6 hour(s)\n",
        "# Suggestion: Excellent! Now motivate others."
      ],
      "metadata": {
        "colab": {
          "base_uri": "https://localhost:8080/"
        },
        "id": "6uWc84a_ZTap",
        "outputId": "8b9114a0-7a9a-422c-9724-074e3d69dfdb"
      },
      "execution_count": null,
      "outputs": [
        {
          "output_type": "stream",
          "name": "stdout",
          "text": [
            "Name: Harry Potter\n",
            "ID: 123\n",
            "Department: \n",
            "Daily Effort: 3 hour(s)\n",
            "Suggestion: Suggestion: Keep up the good work!\n",
            "========================\n",
            "Name: John Wick\n",
            "ID: 456\n",
            "Department: BBA\n",
            "Daily Effort: 2 hour(s)\n",
            "Suggestion: Suggestion: Keep up the good work!\n",
            "========================\n",
            "Name: Naruto Uzumaki\n",
            "ID: 777\n",
            "Department: Ninja\n",
            "Daily Effort: 6 hour(s)\n",
            "Suggestion: Suggestion: Excellent! Now motivate others.\n"
          ]
        }
      ]
    },
    {
      "cell_type": "markdown",
      "source": [
        "##Task 6"
      ],
      "metadata": {
        "id": "UhTjFKW-R97H"
      }
    },
    {
      "cell_type": "code",
      "source": [
        ""
      ],
      "metadata": {
        "id": "VFSt96MfbHS9"
      },
      "execution_count": null,
      "outputs": []
    },
    {
      "cell_type": "markdown",
      "source": [
        "##Task 7"
      ],
      "metadata": {
        "id": "KV5jKbEvSBM_"
      }
    },
    {
      "cell_type": "code",
      "source": [
        ""
      ],
      "metadata": {
        "id": "t8GkMwRAR80s"
      },
      "execution_count": null,
      "outputs": []
    },
    {
      "cell_type": "markdown",
      "source": [
        "##Task 8"
      ],
      "metadata": {
        "id": "hUNNk3qeSCvh"
      }
    },
    {
      "cell_type": "code",
      "source": [
        ""
      ],
      "metadata": {
        "id": "Bt7bCBQWSArY"
      },
      "execution_count": null,
      "outputs": []
    },
    {
      "cell_type": "markdown",
      "source": [
        "##Task 9"
      ],
      "metadata": {
        "id": "e5B6N2rwSEPP"
      }
    },
    {
      "cell_type": "code",
      "source": [
        ""
      ],
      "metadata": {
        "id": "-W7c4AORR88y"
      },
      "execution_count": null,
      "outputs": []
    },
    {
      "cell_type": "markdown",
      "source": [
        "##Task 10"
      ],
      "metadata": {
        "id": "QnQyC3jjRlP4"
      }
    },
    {
      "cell_type": "code",
      "source": [
        "class EPL_Team:\n",
        "  def __init__(self,x,y=''):\n",
        "    self.name = x\n",
        "    self.anthem = y\n",
        "    self.title = 0\n",
        "  def showClubInfo(self):\n",
        "    return f'Name: {self.name} \\nSong: {self.anthem} \\nTotal No of title: {self.title}'\n",
        "\n",
        "  def increaseTitle(self):\n",
        "    self.title += 1\n",
        "\n",
        "  def changeSong(self,x):\n",
        "    self.anthem = x\n",
        "\n",
        "# Write your code here\n",
        "manu = EPL_Team('Manchester United', 'Glory Glory Man United')\n",
        "chelsea = EPL_Team('Chelsea')\n",
        "print('===================')\n",
        "print(manu.showClubInfo())\n",
        "print('##################')\n",
        "manu.increaseTitle()\n",
        "print(manu.showClubInfo())\n",
        "print('===================')\n",
        "print(chelsea.showClubInfo())\n",
        "chelsea.changeSong('Keep the blue flag flying high')\n",
        "print(chelsea.showClubInfo())\n",
        "\n",
        "# Output\n",
        "# ===================\n",
        "# Name: Manchester United \n",
        "# Song: Glory Glory Man United\n",
        "# Total No of title: 0\n",
        "# ##################\n",
        "# Name: Manchester United \n",
        "# Song: Glory Glory Man United\n",
        "# Total No of title: 1\n",
        "# ===================\n",
        "# Name: Chelsea \n",
        "# Song: No Slogan\n",
        "# Total No of title: 0\n",
        "# Name: Chelsea \n",
        "# Song: Keep the blue flag flying high\n",
        "# Total No of title: 0"
      ],
      "metadata": {
        "colab": {
          "base_uri": "https://localhost:8080/"
        },
        "id": "1ZXAn1JmbHpH",
        "outputId": "38748cfe-67a6-4972-ae0f-e2ea02dc7575"
      },
      "execution_count": null,
      "outputs": [
        {
          "output_type": "stream",
          "name": "stdout",
          "text": [
            "===================\n",
            "Name: Manchester United \n",
            "Song: Glory Glory Man United \n",
            "Total No of title: 0\n",
            "##################\n",
            "Name: Manchester United \n",
            "Song: Glory Glory Man United \n",
            "Total No of title: 1\n",
            "===================\n",
            "Name: Chelsea \n",
            "Song:  \n",
            "Total No of title: 0\n",
            "Name: Chelsea \n",
            "Song: Keep the blue flag flying high \n",
            "Total No of title: 0\n"
          ]
        }
      ]
    },
    {
      "cell_type": "markdown",
      "source": [
        "##Task 11"
      ],
      "metadata": {
        "id": "VcgsUpTIRrPA"
      }
    },
    {
      "cell_type": "code",
      "source": [
        "class Author:\n",
        "  def __init__(self,*authors):\n",
        "    self.name = authors\n",
        "    self.books = []\n",
        "    if len(authors)>1:\n",
        "      for i in authors:\n",
        "        if i != authors[0]:\n",
        "          self.books.append(i)\n",
        "  def addBooks(self,*booksT):\n",
        "    for book in booksT:\n",
        "      self.books.append(book)\n",
        "\n",
        "  def changeName(self,newName):\n",
        "    self.name = newName\n",
        "\n",
        "  def printDetails(self):\n",
        "    if \"Mario\" in self.name:\n",
        "      print(f'Author Name: {self.name}')\n",
        "    else:\n",
        "      print(f'Author Name: {self.name[0]}')\n",
        "    print(f'--------')\n",
        "    print(f'List of Books:')\n",
        "    for book in self.books:\n",
        "      print(book)\n",
        "\n",
        "auth1 = Author('Humayun Ahmed')\n",
        "auth1.addBooks('Deyal', 'Megher Opor Bari')\n",
        "auth1.printDetails()\n",
        "print(\"===================\")\n",
        "auth2 = Author()\n",
        "print(auth2.name)\n",
        "auth2.changeName(\"Mario Puzo\")\n",
        "auth2.addBooks('The Godfather', 'Omerta', 'The Sicilian')\n",
        "print(\"===================\")\n",
        "auth2.printDetails()\n",
        "print(\"===================\")\n",
        "auth3 = Author('Paolo Coelho', 'The Alchemist', 'The Fifth Mountain')\n",
        "auth3.printDetails()\n",
        "\n",
        "# Output\n",
        "# Author Name:  Humayun Ahmed\n",
        "# --------\n",
        "# List of Books:\n",
        "# Deyal\n",
        "# Megher Opor Bari\n",
        "# ===================\n",
        "# Default\n",
        "# ===================\n",
        "# Author Name:  Mario Puzo\n",
        "# --------\n",
        "# List of Books:\n",
        "# The Godfather\n",
        "# Omerta\n",
        "# The Sicilian\n",
        "# ===================\n",
        "# Author Name:  Paolo Coelho\n",
        "# --------\n",
        "# List of Books:\n",
        "# The Alchemist\n",
        "# The Fifth Mountain\n"
      ],
      "metadata": {
        "colab": {
          "base_uri": "https://localhost:8080/"
        },
        "id": "ToIQLfSScV1f",
        "outputId": "a00a6ae5-202f-45ed-a38c-97faa09c971e"
      },
      "execution_count": null,
      "outputs": [
        {
          "output_type": "stream",
          "name": "stdout",
          "text": [
            "Author Name: Humayun Ahmed\n",
            "--------\n",
            "List of Books:\n",
            "Deyal\n",
            "Megher Opor Bari\n",
            "===================\n",
            "()\n",
            "===================\n",
            "Author Name: Mario Puzo\n",
            "--------\n",
            "List of Books:\n",
            "The Godfather\n",
            "Omerta\n",
            "The Sicilian\n",
            "===================\n",
            "Author Name: Paolo Coelho\n",
            "--------\n",
            "List of Books:\n",
            "The Alchemist\n",
            "The Fifth Mountain\n"
          ]
        }
      ]
    },
    {
      "cell_type": "markdown",
      "source": [
        "##Task 12"
      ],
      "metadata": {
        "id": "8CvMQyMpRy7n"
      }
    },
    {
      "cell_type": "code",
      "source": [
        "# Write your code here\n",
        "class TaxiLagbe:\n",
        "  def __init__(self,x,y):\n",
        "    self.passenger = []\n",
        "    self.location = y\n",
        "    self.ticket = x\n",
        "    self.fare = 0\n",
        "\n",
        "  def addPassenger(self,*passengers):\n",
        "    if len(self.passenger)<4:\n",
        "      for i in range(len(passengers)):  \n",
        "        print(f\"Dear {passengers[i].split('_')[0]}! Welcome to TaxiLagbe.\")\n",
        "        self.fare += int(passengers[i].split('_')[1])\n",
        "      for passenger in passengers:  \n",
        "        self.passenger.append(passenger)\n",
        "    else:\n",
        "      print('Taxi Full! No more passengers can be added.')\n",
        "  \n",
        "  def printDetails(self):\n",
        "    print(f\"Trip info for Taxi number: {self.ticket}\")\n",
        "    print(f\"This taxi can cover only {self.location} area.\")\n",
        "    print(f\"Total passengers: {len(self.passenger)}\")\n",
        "    print(f\"Passenger lists:\")\n",
        "    container = ''\n",
        "    for i in self.passenger:  \n",
        "      name = i.split('_')[0]\n",
        "      if self.passenger.index(i) != (len(self.passenger)-1):\n",
        "        container += name + ', '\n",
        "      else:\n",
        "        container += name\n",
        "    print(container)\n",
        "    print(f\"Total collected fare: {self.fare} Taka\")\n",
        "\n",
        "# Driver\n",
        "taxi1 = TaxiLagbe('1010-01', 'Dhaka')\n",
        "print('-------------------------------')\n",
        "taxi1.addPassenger('Walker_100', 'Wood_200')\n",
        "taxi1.addPassenger('Matt_100')\n",
        "taxi1.addPassenger('Wilson_105')\n",
        "print('-------------------------------')\n",
        "taxi1.printDetails()\n",
        "print('-------------------------------')\n",
        "taxi1.addPassenger('Karen_200')\n",
        "print('-------------------------------')\n",
        "taxi1.printDetails()\n",
        "print('-------------------------------')\n",
        "taxi2 = TaxiLagbe('1010-02', 'Khulna')\n",
        "taxi2.addPassenger('Ronald_115')\n",
        "taxi2.addPassenger('Parker_215')\n",
        "print('-------------------------------')\n",
        "taxi2.printDetails()\n",
        "\n",
        "# Output\n",
        "# --------------------------------------\n",
        "# Dear Walker! Welcome to TaxiLagbe.\n",
        "# Dear Wood! Welcome to TaxiLagbe.\n",
        "# Dear Matt! Welcome to TaxiLagbe.\n",
        "# Dear Wilson! Welcome to TaxiLagbe.\n",
        "# --------------------------------------\n",
        "# Trip info for Taxi number: 1010-01\n",
        "# This taxi can cover only Dhaka area.\n",
        "# Total passengers: 4\n",
        "# Passenger lists:\n",
        "# Walker, Wood, Matt, Wilson\n",
        "# Total collected fare: 505 Taka\n",
        "# --------------------------------------\n",
        "# Taxi Full! No more passengers can be added.\n",
        "# --------------------------------------\n",
        "# Trip info for Taxi number: 1010-01\n",
        "# This taxi can cover only Dhaka area.\n",
        "# Total passengers: 4\n",
        "# Passenger lists:\n",
        "# Walker, Wood, Matt, Wilson\n",
        "# Total collected fare: 505 Taka\n",
        "# --------------------------------------\n",
        "# Dear Ronald! Welcome to TaxiLagbe.\n",
        "# Dear Parker! Welcome to TaxiLagbe.\n",
        "# --------------------------------------\n",
        "# Trip info for Taxi number: 1010-02\n",
        "# This taxi can cover only Khulna area.\n",
        "# Total passengers: 2\n",
        "# Passenger lists:\n",
        "# Ronald, Parker\n",
        "# Total collected fare: 330 Taka"
      ],
      "metadata": {
        "colab": {
          "base_uri": "https://localhost:8080/"
        },
        "id": "7Otwz2UrRyIa",
        "outputId": "fb5eb87b-2e90-4ddc-c8f0-b84fbf2a2161"
      },
      "execution_count": 32,
      "outputs": [
        {
          "output_type": "stream",
          "name": "stdout",
          "text": [
            "-------------------------------\n",
            "Dear Walker! Welcome to TaxiLagbe.\n",
            "Dear Wood! Welcome to TaxiLagbe.\n",
            "Dear Matt! Welcome to TaxiLagbe.\n",
            "Dear Wilson! Welcome to TaxiLagbe.\n",
            "-------------------------------\n",
            "Trip info for Taxi number: 1010-01\n",
            "This taxi can cover only Dhaka area.\n",
            "Total passengers: 4\n",
            "Passenger lists:\n",
            "Walker, Wood, Matt, Wilson\n",
            "Total collected fare: 505 Taka\n",
            "-------------------------------\n",
            "Taxi Full! No more passengers can be added.\n",
            "-------------------------------\n",
            "Trip info for Taxi number: 1010-01\n",
            "This taxi can cover only Dhaka area.\n",
            "Total passengers: 4\n",
            "Passenger lists:\n",
            "Walker, Wood, Matt, Wilson\n",
            "Total collected fare: 505 Taka\n",
            "-------------------------------\n",
            "Dear Ronald! Welcome to TaxiLagbe.\n",
            "Dear Parker! Welcome to TaxiLagbe.\n",
            "-------------------------------\n",
            "Trip info for Taxi number: 1010-02\n",
            "This taxi can cover only Khulna area.\n",
            "Total passengers: 2\n",
            "Passenger lists:\n",
            "Ronald, Parker\n",
            "Total collected fare: 330 Taka\n"
          ]
        }
      ]
    },
    {
      "cell_type": "markdown",
      "source": [
        "##Task 13"
      ],
      "metadata": {
        "id": "c-iTcvMHRtPI"
      }
    },
    {
      "cell_type": "code",
      "source": [
        "# Write your code here\n",
        "class Account:\n",
        "  def __init__(self,x='Default Account',y=0):\n",
        "    self.name = x\n",
        "    self.balance = y\n",
        "  def details(self):\n",
        "    return f'{self.name} \\n{float(self.balance)}'\n",
        "  def withdraw(self,money):\n",
        "    if self.balance - money < 3071:\n",
        "      print(\"Sorry, Withdraw unsuccessful! The account balance after deducting withdraw amount is equal to or less than minimum.\")\n",
        "    else:\n",
        "      self.balance -= money \n",
        "      print(f\"Withdraw successful! New balance is: {self.balance}\")\n",
        "a1 = Account()\n",
        "print(a1.details())\n",
        "print(\"------------------------\")\n",
        "a1.name = \"Oliver\"\n",
        "a1.balance = 10000.0\n",
        "print(a1.details())\n",
        "print(\"------------------------\")\n",
        "a2 = Account(\"Liam\")\n",
        "print(a2.details())\n",
        "print(\"------------------------\")\n",
        "a3 = Account(\"Noah\",400)\n",
        "print(a3.details())\n",
        "print(\"------------------------\")\n",
        "a1.withdraw(6930)\n",
        "print(\"------------------------\")\n",
        "a2.withdraw(600)\n",
        "print(\"------------------------\")\n",
        "a1.withdraw(6929)\n",
        "\n",
        "# Output\n",
        "# Default Account\n",
        "# 0.0\n",
        "# ------------------------\n",
        "# Oliver\n",
        "# 10000.0\n",
        "# ------------------------\n",
        "# Liam\n",
        "# 0.0\n",
        "# ------------------------\n",
        "# Noah\n",
        "# 400.0\n",
        "# ------------------------\n",
        "# Sorry, Withdraw unsuccessful! The account balance after deducting withdraw amount is equal to or less than minimum.\n",
        "# ------------------------\n",
        "# Sorry, Withdraw unsuccessful! The account balance after deducting withdraw amount is equal to or less than minimum.\n",
        "# ------------------------\n",
        "# Withdraw successful! New balance is: 3071.0"
      ],
      "metadata": {
        "colab": {
          "base_uri": "https://localhost:8080/"
        },
        "id": "zjxzPeYgcV7P",
        "outputId": "68db7d45-15cd-476f-a21c-599fbc36c67d"
      },
      "execution_count": null,
      "outputs": [
        {
          "output_type": "stream",
          "name": "stdout",
          "text": [
            "Default Account \n",
            "0.0\n",
            "------------------------\n",
            "Oliver \n",
            "10000.0\n",
            "------------------------\n",
            "Liam \n",
            "0.0\n",
            "------------------------\n",
            "Noah \n",
            "400.0\n",
            "------------------------\n",
            "Sorry, Withdraw unsuccessful! The account balance after deducting withdraw amount is equal to or less than minimum.\n",
            "------------------------\n",
            "Sorry, Withdraw unsuccessful! The account balance after deducting withdraw amount is equal to or less than minimum.\n",
            "------------------------\n",
            "Withdraw successful! New balance is: 3071.0\n"
          ]
        }
      ]
    },
    {
      "cell_type": "markdown",
      "source": [
        "##Task 14"
      ],
      "metadata": {
        "id": "L4QT0wlNR5YP"
      }
    },
    {
      "cell_type": "code",
      "source": [
        ""
      ],
      "metadata": {
        "id": "QHhqtFzrRwti"
      },
      "execution_count": null,
      "outputs": []
    }
  ]
}