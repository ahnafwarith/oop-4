{
 "cells": [
  {
   "cell_type": "markdown",
   "id": "a83ebe5c",
   "metadata": {},
   "source": [
    "# String"
   ]
  },
  {
   "cell_type": "raw",
   "id": "4c79ed47",
   "metadata": {},
   "source": [
    "1.From a given string, print the string in all uppercase if the number ofuppercase\n",
    "letters is more than lowercase letters. Otherwise, if lowercase is greater or equal\n",
    "to uppercase letters, print all lowercase. The inputs will contain letters (A-Z, a-z)\n",
    "only.\n",
    "Sample Input Sample Output\n",
    "HOusE HOUSE\n",
    "ApplE apple\n",
    "BaNaNa banana"
   ]
  },
  {
   "cell_type": "code",
   "execution_count": 69,
   "id": "636406af",
   "metadata": {},
   "outputs": [
    {
     "name": "stdout",
     "output_type": "stream",
     "text": [
      "banana\n"
     ]
    }
   ],
   "source": [
    "givStr = \"BaNaNa\"\n",
    "count1 = 0\n",
    "count2 = 0\n",
    "for i in givStr:\n",
    "    if 97<=ord(i)<=122:\n",
    "        count1 += 1\n",
    "    if 65<=ord(i)<=90:\n",
    "        count2 += 1\n",
    "if count1 >= count2:\n",
    "    print(givStr.lower())\n",
    "else:\n",
    "    print(givStr.upper())"
   ]
  },
  {
   "cell_type": "raw",
   "id": "39230f8d",
   "metadata": {},
   "source": [
    "2.Given a string, print whether it is a number, word or mixed with digit andletters.\n",
    "If all the characters are numeric values, print NUMBER. If they are all letters,\n",
    "print WORD. If it is mixed, print MIXED.\n",
    "Sample Input Sample Output\n",
    "213213 NUMBER\n",
    "jhg231j213 MIXED\n",
    "Hello WORD"
   ]
  },
  {
   "cell_type": "code",
   "execution_count": 8,
   "id": "8764fd80",
   "metadata": {},
   "outputs": [
    {
     "name": "stdout",
     "output_type": "stream",
     "text": [
      "WORD\n"
     ]
    }
   ],
   "source": [
    "def checkerStatus(givStr):\n",
    "    counter = 0\n",
    "    for i in givStr:\n",
    "        if ord(i) in range(48,57):\n",
    "            counter += 1\n",
    "    if counter == 0:\n",
    "        print(\"WORD\")\n",
    "    elif counter == len(givStr):\n",
    "        print(\"NUMBER\")\n",
    "    else:\n",
    "        print(\"MIXED\")\n",
    "checkerStatus('sdfd')"
   ]
  },
  {
   "cell_type": "raw",
   "id": "db3d16e3",
   "metadata": {},
   "source": [
    "3.In a given string, there will be two uppercase letters in between some lowercase\n",
    "letters. Print the substring from the first uppercase letter to the last uppercase\n",
    "letter excluding them. If there are no letters in between them, print the word\n",
    "BLANK. It is guaranteed that there will be only two uppercase letters in the\n",
    "string.\n",
    "Sample Input Sample Output\n",
    "baNgladEsh glad\n",
    "coDIng BLANK"
   ]
  },
  {
   "cell_type": "code",
   "execution_count": 76,
   "id": "9947de28",
   "metadata": {},
   "outputs": [
    {
     "data": {
      "text/plain": [
       "'BLANK'"
      ]
     },
     "execution_count": 76,
     "metadata": {},
     "output_type": "execute_result"
    }
   ],
   "source": [
    "def checkerTwo (givStr):\n",
    "    container1 = []\n",
    "    for i in givStr:\n",
    "        if(65<=ord(i)<=90):\n",
    "            container1.append(givStr.index(i))\n",
    "    if len(givStr[container1[0]+1:container1[1]:])==0:\n",
    "        return 'BLANK'\n",
    "    return givStr[container1[0]+1:container1[1]:]\n",
    "checkerTwo('coDIng')"
   ]
  },
  {
   "cell_type": "raw",
   "id": "f8d3377e",
   "metadata": {},
   "source": [
    "4.Create a string from two given strings by concatenating common characters of\n",
    "the given strings.\n",
    "Sample Input Sample Output\n",
    "harry, hermione hrrhr\n",
    "dean, tom Nothing in common."
   ]
  },
  {
   "cell_type": "code",
   "execution_count": 77,
   "id": "481dd080",
   "metadata": {},
   "outputs": [
    {
     "data": {
      "text/plain": [
       "'Nothing in common.'"
      ]
     },
     "execution_count": 77,
     "metadata": {},
     "output_type": "execute_result"
    }
   ],
   "source": [
    "def givifier (st1,st2):\n",
    "    retSt = \"\"\n",
    "    for i in st1:\n",
    "        if i in st2:\n",
    "            retSt+=i\n",
    "    for x in st2:\n",
    "        if x in st1:\n",
    "            retSt+=x\n",
    "    if len(retSt) == 0:\n",
    "        return \"Nothing in common.\"\n",
    "    return retSt\n",
    "givifier('dean', 'tom')"
   ]
  },
  {
   "cell_type": "raw",
   "id": "6af151df",
   "metadata": {},
   "source": [
    "5. Again, you have lost your USIS password!! You went to the registrar office\n",
    "and requested for a new password. This time, you need to follow some rules to\n",
    "set your password. Otherwise, they won't change it. The rules are\n",
    "At least one lowercase letter\n",
    "At least one uppercase letter\n",
    "At least one digit (0-9)\n",
    "At least one special character (_ , $ , #, @)\n",
    "Your task is to find whether a given password follows all those rules. If it breaks\n",
    "any rule, you have to print Lowercase Missing, Uppercase Missing, Digit Missing\n",
    "or Special Missing respective to the missing case. For more than one rule break,\n",
    "print all the rules that were broken (order doesn't matter). If the password is ok,\n",
    "print OK.\n",
    "Sample Input\n",
    "ohMyBR@CU\n",
    "ohmybracu\n",
    "OhMyBR@CU20\n",
    "Sample Output\n",
    "Digit missing\n",
    "Uppercase character missing, Digit missing, Special character missing\n",
    "OK"
   ]
  },
  {
   "cell_type": "code",
   "execution_count": 44,
   "id": "27a7be69",
   "metadata": {},
   "outputs": [
    {
     "name": "stdout",
     "output_type": "stream",
     "text": [
      "OhMyBR@CU\n",
      "Digit missing \n"
     ]
    }
   ],
   "source": [
    "def usisPasswordifier(passwd):\n",
    "    conditions = {'Uppercase character missing':True,\n",
    "                  'Lowercase character missing':True,\n",
    "                  'Digit missing':True,\n",
    "                  'Special character missing':True}\n",
    "    container = ''\n",
    "    for i in passwd:\n",
    "        if ord(i) in range(65,91):\n",
    "            conditions['Uppercase character missing'] = False\n",
    "        if ord(i) in range(97,123):\n",
    "            conditions['Lowercase character missing'] = False\n",
    "        if ord(i) in range(47,58):\n",
    "            conditions['Digit missing'] = False\n",
    "        if i in ['_' , '$' , '#', '@']:\n",
    "            conditions['Special character missing'] = False\n",
    "    for k,v in conditions.items():\n",
    "        if v == True:\n",
    "            container += k + ' '\n",
    "    if (container == ''):\n",
    "        print('OK')\n",
    "    else:\n",
    "        print(container)\n",
    "inputV = input()\n",
    "usisPasswordifier(inputV)"
   ]
  },
  {
   "cell_type": "markdown",
   "id": "5ea3193f",
   "metadata": {},
   "source": [
    "# List"
   ]
  },
  {
   "cell_type": "raw",
   "id": "c86b486a",
   "metadata": {},
   "source": [
    "1. Write a python program which prints the frequency of the numbers that were given \n",
    "as input by the user. Stop taking input when you find the string “STOP”. Do not \n",
    "print the frequency of numbers that were not given as input.\n",
    "Sample Input\n",
    "10\n",
    "20\n",
    "20\n",
    "30\n",
    "10\n",
    "50\n",
    "90\n",
    "STOP\n",
    "Sample Output\n",
    "10 - 2 times\n",
    "20 - 2 times\n",
    "30 - 1 times\n",
    "50 - 1 times\n",
    "90 - 1 times"
   ]
  },
  {
   "cell_type": "code",
   "execution_count": 65,
   "id": "2bdab969",
   "metadata": {},
   "outputs": [
    {
     "name": "stdout",
     "output_type": "stream",
     "text": [
      "10\n",
      "10\n",
      "20\n",
      "20\n",
      "30\n",
      "40\n",
      "50\n",
      "STOP\n",
      "10 - 2 times\n",
      "20 - 2 times\n",
      "30 - 1 times\n",
      "40 - 1 times\n",
      "50 - 1 times\n"
     ]
    }
   ],
   "source": [
    "inpFlag = True\n",
    "lst = []\n",
    "while inpFlag:\n",
    "    inpValue = input()\n",
    "    if(inpValue == 'STOP'):\n",
    "        inpFlag = not inpFlag\n",
    "    else:\n",
    "        lst.append(int(inpValue))\n",
    "dct = {}\n",
    "for i in lst:\n",
    "    if (i not in dct):\n",
    "        dct[i] = lst.count(i)\n",
    "for k,v in dct.items():\n",
    "    print(k,'-',v,'times')"
   ]
  },
  {
   "cell_type": "raw",
   "id": "f3f9b3bf",
   "metadata": {},
   "source": [
    "2. Write a python program that calculates the sum of N given lists and prints the highest\n",
    "sum and its respective list. Input starts with N and followed by N lists.\n",
    "Sample Input\n",
    "4\n",
    "1 2 3\n",
    "4 5 6\n",
    "10 11 12\n",
    "7 8 9\n",
    "Sample Output\n",
    "33\n",
    "[10, 11, 12]"
   ]
  },
  {
   "cell_type": "code",
   "execution_count": 13,
   "id": "d95633f0",
   "metadata": {},
   "outputs": [
    {
     "name": "stdout",
     "output_type": "stream",
     "text": [
      "4\n",
      "1 2 3\n",
      "1 2 3\n",
      "10 11 12\n",
      "1 2 3\n",
      "33 \n",
      "['10', '11', '12']\n"
     ]
    }
   ],
   "source": [
    "inp1 = input()\n",
    "dct = {}\n",
    "for i in range(int(inp1)):\n",
    "    inp2 = input().split(' ')\n",
    "    dct[str(i+1)+' no. batch of inputs'] = inp2\n",
    "maxi = 0\n",
    "lst = []\n",
    "for value in dct.values():\n",
    "    summation = 0\n",
    "    for no in value:\n",
    "        summation += int(no)\n",
    "    if (maxi<summation):\n",
    "        maxi = summation\n",
    "        lst = value\n",
    "print(maxi,'\\n%s' %lst)"
   ]
  },
  {
   "cell_type": "raw",
   "id": "aa01eed5",
   "metadata": {},
   "source": [
    "3. Let there are N numbers in a list and that list is said to be a UB Jumper if the\n",
    "absolute values of the difference between the successive elements take on all the\n",
    "values 1 through N − 1. For example, 2 1 4 6 10 is a UB Jumper because the absolute\n",
    "differences between them are 1 3 2 4 which is all numbers from 1 to (5 - 1) or 4.\n",
    "Write a python program that takes a number sequence as input and prints\n",
    "whether it is a UB Jumper or Not UB Jumper. Input will stop after getting\n",
    "“STOP” as input. (Number order or absolute difference order doesn’t follow any\n",
    "sequence.)\n",
    "Sample Input\n",
    "1 4 2 3\n",
    "2 1 4 6 10\n",
    "1 4 2 -1 6\n",
    "STOP\n",
    "Sample Output\n",
    "UB Jumper\n",
    "UB Jumper\n",
    "Not UB Jumper"
   ]
  },
  {
   "cell_type": "code",
   "execution_count": 32,
   "id": "09684ebe",
   "metadata": {},
   "outputs": [
    {
     "name": "stdout",
     "output_type": "stream",
     "text": [
      "1 4 2 3\n",
      "2 1 4 6 10\n",
      "1 4 2 -1 6\n",
      "STOP\n",
      "UB Jumper\n",
      "UB Jumper\n",
      "Not UB Jumper\n"
     ]
    }
   ],
   "source": [
    "def checkUp(inpI):\n",
    "    status = 'UB Jumper'\n",
    "    for i in range(len(inpI)-1):\n",
    "        if abs(inpI[i] - inpI[i+1]) > len(inpI):\n",
    "            status = 'Not UB Jumper'\n",
    "            break\n",
    "    print(status)\n",
    "lst = []\n",
    "while True:\n",
    "    inp = input()\n",
    "    if inp == 'STOP':\n",
    "        break\n",
    "    inpF = inp.split(' ')\n",
    "    lstX = []\n",
    "    for i in inpF:\n",
    "        lstX.append(int(i))\n",
    "    lst.append(lstX)\n",
    "for item in lst:\n",
    "    checkUp(item) "
   ]
  },
  {
   "cell_type": "raw",
   "id": "c0631144",
   "metadata": {},
   "source": [
    "4. BRACU has n students who are regular competitive programmers. According \n",
    "to the ACM ICPC rules, each person can participate in the regional championship \n",
    "at most 5 times.\n",
    "The head of the BRACU ACM Chapter is recently gathering teams to participate \n",
    "in this championship. Each team must consist of exactly three people, at that, any \n",
    "person cannot be a member of two or more teams. What maximum number of teams \n",
    "can the head make if he wants each team to participate in the world championship \n",
    "with the same members at least k times?\n",
    "The first line of input contains two integers, n and k. The next line contains n \n",
    "integers: y1,y2, ...,yn (0≤ yi≤ 5), where yi shows the number of times the i-thperson \n",
    "participated in the ACM ICPC Regional.\n",
    "Write a python program that prints how many teams can be formed according to \n",
    "the above problem statement.\n",
    "Sample Input 1\n",
    "5 2\n",
    "0 4 5 1 0\n",
    "Sample Input 2\n",
    "6 4\n",
    "0 1 2 3 4 5\n",
    "Sample Input 3\n",
    "6 5\n",
    "0 0 0 0 0 0\n",
    "Sample Output 1\n",
    "1\n",
    "Sample Output 2\n",
    "0\n",
    "Sample Output 3\n",
    "2"
   ]
  },
  {
   "cell_type": "code",
   "execution_count": 33,
   "id": "067c5fa5",
   "metadata": {},
   "outputs": [
    {
     "name": "stdout",
     "output_type": "stream",
     "text": [
      "6 5\n",
      "0 0 0 0 0 0\n",
      "2\n"
     ]
    }
   ],
   "source": [
    "member, times = input().split()\n",
    "member = int(member)\n",
    "times = int(times)\n",
    "dataC = []\n",
    "for i in input().split():\n",
    "    dataC.append(int(i))\n",
    "approval = []\n",
    "for i in dataC:\n",
    "    if i+times<=5:\n",
    "        approval.append(int(i))\n",
    "appr = len(approval)\n",
    "if appr < 3:\n",
    "    print(0)\n",
    "else:\n",
    "    if appr % 3 == 0:\n",
    "        print(appr // 3)\n",
    "    elif (appr - 1) % 3 == 0:\n",
    "        print((appr - 1) // 3)\n",
    "    elif (appr - 2) % 3 == 0:\n",
    "        print((appr - 2) // 3)"
   ]
  },
  {
   "cell_type": "markdown",
   "id": "52f6bbe3",
   "metadata": {},
   "source": [
    "# Dictionary"
   ]
  },
  {
   "cell_type": "raw",
   "id": "732b9388",
   "metadata": {},
   "source": [
    "1. Write a Python program to combine two dictionaries into one by adding values for \n",
    "common keys. Input contains two comma separated dictionaries. Print the new \n",
    "dictionary and create a tuple which contains unique values in sorted order.\n",
    "Sample Input\n",
    "a: 100, b: 100, c: 200, d: 300\n",
    "a: 300, b: 200, d: 400, e: 200\n",
    "Sample Output\n",
    "{'a': 400, 'b': 300, 'c': 200,'d': 700, 'e': 200}\n",
    "Values: (200, 300, 400, 700)"
   ]
  },
  {
   "cell_type": "code",
   "execution_count": 18,
   "id": "43200dca",
   "metadata": {},
   "outputs": [
    {
     "name": "stdout",
     "output_type": "stream",
     "text": [
      "a: 100, b: 100, c: 200, d: 300\n",
      "a: 300, b: 200, d: 400, e: 200\n",
      "{'a': 400, 'b': 300, 'c': 200, 'd': 700, 'e': 200}\n",
      "Values: (400, 300, 200, 700)\n"
     ]
    }
   ],
   "source": [
    "dct1 = {}\n",
    "dct2 = {}\n",
    "inp1 = input().split(', ')\n",
    "inp2 = input().split(', ')\n",
    "for i in inp1:\n",
    "    dct1[i[0:1:]] = int(i[3:7:])\n",
    "for i in inp2:\n",
    "    dct2[i[0:1:]] = int(i[3:7:])\n",
    "def combinator(dctI,dctII):\n",
    "    dctF = {}\n",
    "    tupF = []\n",
    "    for k,v in dctI.items():\n",
    "        if k in dctF:\n",
    "            dctF[k] += v\n",
    "        else:\n",
    "            dctF[k] = v\n",
    "    for k,v in dctII.items():\n",
    "        if k in dctF:\n",
    "            dctF[k] += v\n",
    "        else:\n",
    "            dctF[k] = v\n",
    "    for v in dctF.values():\n",
    "        if v not in tupF:\n",
    "            tupF.append(v)\n",
    "    print(dctF)\n",
    "    print('Values:',tuple(tupF))\n",
    "combinator(dct1,dct2)"
   ]
  },
  {
   "cell_type": "raw",
   "id": "d8f86714",
   "metadata": {},
   "source": [
    "2. Write a python program which prints the frequency of the numbers that were \n",
    "given as input by the user. Stop taking input when you find the string “STOP”.Do \n",
    "not print the frequency of numbers that were not given as input. Use a dictionary \n",
    "to solve the problem\n",
    "Sample Input\n",
    "10\n",
    "20\n",
    "20\n",
    "30\n",
    "10\n",
    "50\n",
    "90\n",
    "STOP\n",
    "Sample Output\n",
    "10 - 2 times\n",
    "20 - 2 times\n",
    "30 - 1 times\n",
    "50 - 1 times\n",
    "90 - 1 times"
   ]
  },
  {
   "cell_type": "code",
   "execution_count": null,
   "id": "38c1a712",
   "metadata": {},
   "outputs": [],
   "source": [
    "inpFlag = True\n",
    "lst = []\n",
    "while inpFlag:\n",
    "    inpValue = input()\n",
    "    if(inpValue == 'STOP'):\n",
    "        inpFlag = not inpFlag\n",
    "    else:\n",
    "        lst.append(int(inpValue))\n",
    "dct = {}\n",
    "for i in lst:\n",
    "    if (i not in dct):\n",
    "        dct[i] = lst.count(i)\n",
    "for k,v in dct.items():\n",
    "    print(k,'-',v,'times')"
   ]
  },
  {
   "cell_type": "raw",
   "id": "d8d56126",
   "metadata": {},
   "source": [
    "3. Write python code to invert a dictionary. It should print a dictionary where the keys\n",
    "are values from the input dictionary and the values are lists of keys from the input\n",
    "dictionary having the same value. Make sure the program handles multiple same\n",
    "values.\n",
    "Sample Input\n",
    "key1 : value1, key2 : value2, key3 : value1\n",
    "Sample Output\n",
    "{\"value1\" : [\"key1\", \"key3\"], \"value2\" : [\"key2\"]}"
   ]
  },
  {
   "cell_type": "code",
   "execution_count": 22,
   "id": "7f773c67",
   "metadata": {},
   "outputs": [
    {
     "name": "stdout",
     "output_type": "stream",
     "text": [
      "{'value1': ['key1', 'key3'], 'value2': ['key2']}\n"
     ]
    }
   ],
   "source": [
    "givDic = {'key1' : 'value1', 'key2' : 'value2', 'key3' : 'value1'}\n",
    "outDic = {}\n",
    "for k,v in givDic.items():\n",
    "    if v in outDic.keys():\n",
    "        outDic[v].append(k)\n",
    "    else:\n",
    "        outDic[v] = [k]\n",
    "print(outDic)"
   ]
  },
  {
   "cell_type": "raw",
   "id": "952640fa",
   "metadata": {},
   "source": [
    "4. On some basic cell phones, text messages can be sent using the numeric keypad. \n",
    "Because each key has multiple letters associated with it, multiple key presses are \n",
    "needed for most letters. Pressing the number once generates the first character listed \n",
    "for that key. Pressing the number 2, 3, 4 or 5 times generates the second, third, fourth \n",
    "or fifth character.\n",
    "Key Symbols\n",
    "1 .,?!:\n",
    "2 ABC\n",
    "3 DEF\n",
    "4 GHI\n",
    "5 JKL\n",
    "6 MNO\n",
    "7 PQRS\n",
    "8 TUV\n",
    "9 WXYZ\n",
    "0 Space\n",
    "Write a program that displays the key presses needed for a message entered by the user. \n",
    "Construct a dictionary that maps from each letter or symbol to the key presses needed to \n",
    "generate it. Then use the dictionary to create and display the presses needed for the user’s \n",
    "message.\n",
    "Sample Input\n",
    "Hello, World!\n",
    "Sample Output\n",
    "4433555555666110966677755531111"
   ]
  },
  {
   "cell_type": "code",
   "execution_count": 19,
   "id": "4469977d",
   "metadata": {},
   "outputs": [
    {
     "name": "stdout",
     "output_type": "stream",
     "text": [
      "Hello, World!\n",
      "4433555555666110966677755531111"
     ]
    }
   ],
   "source": [
    "def chotoPhone(key):\n",
    "    options = {\n",
    "        \".\": 1, \",\": 11, \"?\": 111, \"!\": 1111, \":\": 11111,\n",
    "        \"A\": 2, \"B\": 22, \"C\": 222,\n",
    "        \"D\": 3, \"E\": 33, \"F\": 333,\n",
    "        \"G\": 4, \"H\": 44, \"I\": 444,\n",
    "        \"J\": 5, \"K\": 55, \"L\": 555,\n",
    "        \"M\": 6, \"N\": 66, \"O\": 666,\n",
    "        \"P\": 7, \"Q\": 77, \"R\": 777, \"S\": 7777,\n",
    "        \"T\": 8, \"U\": 88, \"V\": 888,\n",
    "        \"W\": 9, \"X\": 99, \"Y\": 999, \"Z\": 9999,\n",
    "        \" \": 0\n",
    "    }\n",
    "    return options[key]\n",
    "user_input = input().upper()\n",
    "for i in user_input:\n",
    "    key = chotoPhone(i)\n",
    "    print(key, end=\"\")"
   ]
  },
  {
   "cell_type": "markdown",
   "id": "137dbd22",
   "metadata": {},
   "source": [
    "# Functions"
   ]
  },
  {
   "cell_type": "raw",
   "id": "08905b25",
   "metadata": {},
   "source": [
    "1. You are one of the gym instructors at AmiKenoMota. You decide to provide a \n",
    "customized diet and exercise plans based on the BMI of an individual. You\n",
    "measure the weight in kilograms and height in meters and calculate the BMI \n",
    "before a plan can be decided. Write a BMI function that takes in two values, \n",
    "weight in kg and height in cm and print the score along with the condition. (Make \n",
    "sure to convert cm into m before calculation)\n",
    "BMI(height, weight)\n",
    "𝐵𝑀𝐼 = 𝑘𝑔/𝑚2\n",
    "Based on the BMI score return the following output.\n",
    "● < 18.5- Underweight\n",
    "● 18.5 - 24.9 - Normal\n",
    "● 25 -30 - Overweight\n",
    "● > 30 – Obese\n",
    "Sample Input\n",
    "(175, 96)\n",
    "(152, 48)\n",
    "Sample Output\n",
    "Score is 31.3. You are Obese \n",
    "Score is 20.8. You are Normal"
   ]
  },
  {
   "cell_type": "code",
   "execution_count": 67,
   "id": "41631fac",
   "metadata": {},
   "outputs": [
    {
     "name": "stdout",
     "output_type": "stream",
     "text": [
      "Score is 20.8.You are Normal\n"
     ]
    }
   ],
   "source": [
    "def motaNaki(ht,wgt):\n",
    "    bmi = wgt/(ht/100)**2\n",
    "    if (bmi < 18.5):\n",
    "        print('Score is %s.You are underweight' %round(bmi,1))\n",
    "    elif (bmi < 24.9):\n",
    "        print('Score is %s.You are Normal' %round(bmi,1))\n",
    "    elif (bmi < 30):\n",
    "        print('Score is %s.You are Overweight' %round(bmi,1))\n",
    "    else:\n",
    "        print('Score is %s.You are Obese' %round(bmi,1))\n",
    "motaNaki(152, 48)"
   ]
  },
  {
   "cell_type": "raw",
   "id": "84024540",
   "metadata": {},
   "source": [
    "2. Write a function which will take 3 arguments minimum, maximum and \n",
    "divisor. You have to find all the numbers that are divisible by the divisor where \n",
    "minimum value is inclusive and maximum value is exclusive. Add all the \n",
    "numbers and return the value.\n",
    "Sample Input\n",
    "(0, 10, 2)\n",
    "(3, 16, 3)\n",
    "Sample Output\n",
    "20\n",
    "45"
   ]
  },
  {
   "cell_type": "code",
   "execution_count": 47,
   "id": "fc599542",
   "metadata": {},
   "outputs": [
    {
     "data": {
      "text/plain": [
       "45"
      ]
     },
     "execution_count": 47,
     "metadata": {},
     "output_type": "execute_result"
    }
   ],
   "source": [
    "def checker(minimum, maximum, divisor):\n",
    "    sum = 0\n",
    "    for i in range(minimum,maximum):\n",
    "        if i % divisor == 0:\n",
    "            sum += i\n",
    "    return sum\n",
    "checker(3, 16, 3)"
   ]
  },
  {
   "cell_type": "raw",
   "id": "972c5d36",
   "metadata": {},
   "source": [
    "3. You want to order Burger from Chillox through the FoodPanda App. You have to \n",
    "calculate the total price. Write a function which will take the name of the burger\n",
    "and place(Mohakhali/Outside of Mohakhali) as input. Use default argument \n",
    "technique for taking plae input.\n",
    "Menu Price(Tk)\n",
    "BBQ Chicken Cheese Burger 250\n",
    "Beef Burger 170\n",
    "Naga Drums 200\n",
    "Hint: Total Price = meal_cost + delivery_charge + \n",
    "tax Note that:\n",
    "● If your home is in Mohakhali area then your delivery charge is 40\n",
    "taka else 60 taka\n",
    "● Your tax rate is 8% of your meal.\n",
    "Sample Input\n",
    "(‘Beef Burger’, ‘Dhanmondi’) \n",
    "(‘Beef Burger’)\n",
    "Sample Output\n",
    "243.6\n",
    "223.6"
   ]
  },
  {
   "cell_type": "code",
   "execution_count": null,
   "id": "f6d47503",
   "metadata": {},
   "outputs": [],
   "source": [
    "def chilloxer (item,place='Mohakhali'):\n",
    "    items = ['BBQ Chicken Cheese Burger', 'Beef Burger', 'Naga Drums']\n",
    "    if (item == items[0]):\n",
    "        price = 250\n",
    "    if (item == items[1]):\n",
    "        price = 170\n",
    "    if (item == items[2]):\n",
    "        price = 200\n",
    "    total = price + ((8/100)*price)\n",
    "    if (place != 'Mohakhali'):\n",
    "        total += 60\n",
    "    else:\n",
    "        total += 40\n",
    "    return total\n",
    "chilloxer('Beef Burger','Dhanmondi')"
   ]
  },
  {
   "cell_type": "raw",
   "id": "3eb8fa90",
   "metadata": {},
   "source": [
    "4. A company named Sheba.xyz has recently moved from their old domain to a\n",
    "new domain. However, a lot of the company email addresses are still using the \n",
    "old one. Write a function in python that replaces this old domain with the new \n",
    "one in any outdated email addresses. Keep same if the email address contains the\n",
    "new domain. (Do not use builtin replace function)\n",
    "Firstly, define a “replace_domain” function which accepts three parameters\n",
    "*The email address to be checked\n",
    "*The new domain\n",
    "* The old domain (Use Default argument technique to handle this)\n",
    "Sample Input\n",
    "(‘alice@kaaj.com’, ‘sheba.xyz’, ‘kaaj.com’) \n",
    "(‘bob@sheba.xyz’, ‘sheba.xyz’)\n",
    "Sample Output \n",
    "Changed: alice@sheba.xyz\n",
    "Unchanged: bob@sheba.xyz"
   ]
  },
  {
   "cell_type": "code",
   "execution_count": 65,
   "id": "87098066",
   "metadata": {},
   "outputs": [
    {
     "name": "stdout",
     "output_type": "stream",
     "text": [
      "Unchanged: bob@sheba.xyz\n"
     ]
    }
   ],
   "source": [
    "def replace_domain(email,newD,oldD='sheba.xyz'): \n",
    "    container = ''\n",
    "    for i in email:\n",
    "        container += i\n",
    "        if i=='@':\n",
    "            break\n",
    "    if (container+newD == email):\n",
    "        print('Unchanged:',email)\n",
    "    else:\n",
    "        print('Changed:',container+newD)\n",
    "replace_domain('bob@sheba.xyz', 'sheba.xyz')"
   ]
  },
  {
   "cell_type": "raw",
   "id": "28ded212",
   "metadata": {},
   "source": [
    "5. Write a program which checks whether a given string is a palindrome or not.\n",
    "Note: A palindrome is a word, phrase, or sequence that reads the same backward \n",
    "as forward. For palindrome, any spaces in middle are not considered and should \n",
    "be trimmed.\n",
    "Sample Input\n",
    "‘madam’ \n",
    "‘hello’ \n",
    "‘nurses run’\n",
    "Sample Output\n",
    "Palindrome\n",
    "Not a palindrome \n",
    "Palindrome"
   ]
  },
  {
   "cell_type": "code",
   "execution_count": 1,
   "id": "e30fc191",
   "metadata": {},
   "outputs": [
    {
     "name": "stdout",
     "output_type": "stream",
     "text": [
      "Palindrome\n"
     ]
    }
   ],
   "source": [
    "def palindromeChecker(wrd):\n",
    "    container = ''\n",
    "    for i in wrd:\n",
    "        if (i!=' '):\n",
    "            container += i\n",
    "    print('Palindrome' if container == container[::-1] else 'Not a palindrome')\n",
    "palindromeChecker('nurses run')"
   ]
  },
  {
   "cell_type": "raw",
   "id": "f472fa74",
   "metadata": {},
   "source": [
    "6. You are a class teacher at a kindergarten school. As a task, you asked your\n",
    "students to write a paragraph. Unfortunately, you notice that most of the students\n",
    "did not use capital letters correctly. Your task is to write a function which takes a\n",
    "string as its only parameter and returns a new copy of the string that has been\n",
    "correctly capitalized. Your function should:\n",
    "● Capitalize the first letter in the string\n",
    "● Capitalize the first letter after a full-stop, exclamation mark or questionmark\n",
    "● Capitalize the word “i” if it is in lowercase.\n",
    "Summary: You have to write a function that reads a string from the user\n",
    "and capitalizes. The string is then returned and displayed.\n",
    "Sample Input\n",
    "('my favourite animal is a dog. a dog has sharp teeth so that it can eat flesh very easily.\n",
    "do you know my pet dog’s name? i love my pet very much.')\n",
    "\n",
    "Sample Output\n",
    "My favourite animal is a dog. A dog has sharp teeth so that it can eat flesh very easily. Do\n",
    "you know my pet dog’s name? I love my pet very much."
   ]
  },
  {
   "cell_type": "code",
   "execution_count": 26,
   "id": "e2a72d94",
   "metadata": {},
   "outputs": [
    {
     "data": {
      "text/plain": [
       "'My favourite animal is a dog. A dog has sharp teeth so that it can eat flesh very easily. Do you know my pet dog’s name? I love my pet very much.'"
      ]
     },
     "execution_count": 26,
     "metadata": {},
     "output_type": "execute_result"
    }
   ],
   "source": [
    "def capitolizer(strg):\n",
    "    new = strg[0].upper()\n",
    "    strg1 = strg[1::]\n",
    "    for i in range(len(strg1)):\n",
    "        if strg1[i] == 'i':\n",
    "            if strg1[i-1] == \" \" and strg1[i+1] == \" \":\n",
    "                new+= strg1[i].upper()\n",
    "            else:\n",
    "                new+= strg1[i]\n",
    "        elif strg1[i-2] == '.' or strg1[i-2] == '?' or strg1[i-2] == '!':\n",
    "            new+=strg1[i].upper()\n",
    "        else:\n",
    "            new+=strg1[i]\n",
    "    return new\n",
    "capitolizer('my favourite animal is a dog. a dog has sharp teeth so that it can eat flesh very easily. do you know my pet dog’s name? i love my pet very much.')"
   ]
  }
 ],
 "metadata": {
  "kernelspec": {
   "display_name": "Python 3 (ipykernel)",
   "language": "python",
   "name": "python3"
  },
  "language_info": {
   "codemirror_mode": {
    "name": "ipython",
    "version": 3
   },
   "file_extension": ".py",
   "mimetype": "text/x-python",
   "name": "python",
   "nbconvert_exporter": "python",
   "pygments_lexer": "ipython3",
   "version": "3.9.7"
  }
 },
 "nbformat": 4,
 "nbformat_minor": 5
}
