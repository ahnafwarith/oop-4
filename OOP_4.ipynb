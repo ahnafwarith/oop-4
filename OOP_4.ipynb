{
  "nbformat": 4,
  "nbformat_minor": 0,
  "metadata": {
    "colab": {
      "name": "OOP_4.ipynb",
      "provenance": [],
      "collapsed_sections": [],
      "authorship_tag": "ABX9TyM4lZT9kOFtqlu0tAZcMKv/",
      "include_colab_link": true
    },
    "kernelspec": {
      "name": "python3",
      "display_name": "Python 3"
    },
    "language_info": {
      "name": "python"
    }
  },
  "cells": [
    {
      "cell_type": "markdown",
      "metadata": {
        "id": "view-in-github",
        "colab_type": "text"
      },
      "source": [
        "<a href=\"https://colab.research.google.com/github/ahnafwarith/oop-4/blob/main/OOP_4.ipynb\" target=\"_parent\"><img src=\"https://colab.research.google.com/assets/colab-badge.svg\" alt=\"Open In Colab\"/></a>"
      ]
    },
    {
      "cell_type": "markdown",
      "source": [
        "##Task 1"
      ],
      "metadata": {
        "id": "DuCKsOefQ6DW"
      }
    },
    {
      "cell_type": "code",
      "execution_count": null,
      "metadata": {
        "colab": {
          "base_uri": "https://localhost:8080/"
        },
        "id": "610cdr7hQCNX",
        "outputId": "8d28ee77-9490-4a5d-e373-396e611fea2d"
      },
      "outputs": [
        {
          "output_type": "stream",
          "name": "stdout",
          "text": [
            "Hello!\n",
            "Sam, you purchased 3 item(s):\n",
            "chips\n",
            "chocolate\n",
            "orange juice\n",
            "-----------------------------\n",
            "Hello David!\n",
            "Sam, you purchased 1 item(s):\n",
            "orange juice\n"
          ]
        }
      ],
      "source": [
        "class Customer:\n",
        "  def __init__(self,name):\n",
        "    self.name = name\n",
        "  \n",
        "  def greet(self,x=''):\n",
        "    if x == '':\n",
        "      print('Hello!')\n",
        "    else:\n",
        "      print(f'Hello {x}!')\n",
        "\n",
        "  def purchase(self,*items):\n",
        "    print(f'Sam, you purchased {len(items)} item(s):')\n",
        "    for i in items:\n",
        "      print(i)\n",
        "\n",
        "customer_1 = Customer(\"Sam\")\n",
        "customer_1.greet()\n",
        "customer_1.purchase(\"chips\", \"chocolate\", \"orange juice\")\n",
        "print(\"-----------------------------\")\n",
        "customer_2 = Customer(\"David\")\n",
        "customer_2.greet(\"David\")\n",
        "customer_2.purchase(\"orange juice\")\n",
        "\n",
        "# OUTPUT:\n",
        "# Hello! \n",
        "# Sam, you purchased 3 item(s): \n",
        "# chips\n",
        "# chocolate\n",
        "# orange juice\n",
        "# -----------------------------\n",
        "# Hello David!\n",
        "# David, you purchased 1 item(s): \n",
        "# orange juice"
      ]
    },
    {
      "cell_type": "markdown",
      "source": [
        "##Task 2"
      ],
      "metadata": {
        "id": "rr23L2ewQ-TR"
      }
    },
    {
      "cell_type": "code",
      "source": [
        "class Panda:\n",
        "  def __init__(s,a,b,c):\n",
        "    s.name = a\n",
        "    s.gender = b\n",
        "    s.age = c\n",
        "\n",
        "  def sleep(self,x=''):\n",
        "    if x != '':\n",
        "      if x in range(3,6):\n",
        "        food = 'Mixed Veggies'\n",
        "      elif x in range(6,10):\n",
        "        food = 'Eggplant & Tofu'\n",
        "      elif x in range(9,12):\n",
        "        food = 'Broccoli Chicken'\n",
        "      return f'{self.name} sleeps  hours daily and should have {food}'\n",
        "    else:\n",
        "      return f\"{self.name}'s duration is unknown thus should have only  bamboo leaves\"\n",
        "#Write your code here for subtasks 1-4.\n",
        " \n",
        "panda1 = Panda(\"Kunfu\",\"Male\", 5)\n",
        "panda2=Panda(\"Pan Pan\",\"Female\",3)\n",
        "panda3=Panda(\"Ming Ming\",\"Female\",8)\n",
        "\n",
        "print(\"{} is a {} Panda Bear who is {} years old\".format(panda1.name,panda1.gender,panda1.age))\n",
        "\n",
        "print(\"{} is a {} Panda Bear who is {} years old\".format(panda2.name,panda2.gender,panda2.age))\n",
        "print(\"{} is a {} Panda Bear who is {} years old\".format(panda3.name,panda3.gender,panda3.age))\n",
        "print(\"===========================\")\n",
        "print(panda2.sleep(10))\n",
        "print(panda1.sleep(4))\n",
        "print(panda3.sleep())\n",
        "\n",
        "# OUTPUT: \n",
        "# Kunfu is a Male Panda Bear who is 5 years old\n",
        "# Pan Pan is a Female Panda Bear who is 3 years old\n",
        "# Ming Ming is a Female Panda Bear who is 8 years old\n",
        "# ===========================\n",
        "# Pan Pan sleeps 10 hours daily and should have Broccoli Chicken\n",
        "# Kunfu sleeps 4 hours daily and should have Mixed Veggies\n",
        "# Ming Ming's duration is unknown thus should have only  bamboo leaves"
      ],
      "metadata": {
        "colab": {
          "base_uri": "https://localhost:8080/"
        },
        "id": "9hCPi1LYS1K1",
        "outputId": "4e4500c9-f892-4724-d872-23d9879f4983"
      },
      "execution_count": null,
      "outputs": [
        {
          "output_type": "stream",
          "name": "stdout",
          "text": [
            "Kunfu is a Male Panda Bear who is 5 years old\n",
            "Pan Pan is a Female Panda Bear who is 3 years old\n",
            "Ming Ming is a Female Panda Bear who is 8 years old\n",
            "===========================\n",
            "Pan Pan sleeps  hours daily and should have Broccoli Chicken\n",
            "Kunfu sleeps  hours daily and should have Mixed Veggies\n",
            "Ming Ming's duration is unknown thus should have only  bamboo leaves\n"
          ]
        }
      ]
    },
    {
      "cell_type": "markdown",
      "source": [
        "##Task 3"
      ],
      "metadata": {
        "id": "LCXtb4CoRdJJ"
      }
    },
    {
      "cell_type": "code",
      "source": [
        "class Cat:\n",
        "  def __init__(self,x='White',y='sitting'):\n",
        "    self.color = x\n",
        "    self.job = y\n",
        "\n",
        "  def changeColor(self,x):\n",
        "    self.color = x\n",
        "\n",
        "  def printCat(self):\n",
        "    print(f'{self.color} is {self.job}')\n",
        "  \n",
        "c1 = Cat()\n",
        "c2 = Cat(\"Black\")\n",
        "c3 = Cat(\"Brown\", \"jumping\")\n",
        "c4 = Cat(\"Red\", \"purring\")\n",
        "c1.printCat()\n",
        "c2.printCat()\n",
        "c3.printCat()\n",
        "c4.printCat()\n",
        "c1.changeColor(\"Blue\")\n",
        "c3.changeColor(\"Purple\")\n",
        "c1.printCat()\n",
        "c3.printCat()\n",
        "\n",
        "# OUTPUT\n",
        "# White cat is sitting\n",
        "# Black cat is sitting\n",
        "# Brown cat is jumping\n",
        "# Red cat is purring\n",
        "# Blue cat is sitting\n",
        "# Purple cat is jumping"
      ],
      "metadata": {
        "colab": {
          "base_uri": "https://localhost:8080/"
        },
        "id": "goSmWQqOS1fs",
        "outputId": "a2498525-eed2-4531-8b83-e3bf8fa2c611"
      },
      "execution_count": null,
      "outputs": [
        {
          "output_type": "stream",
          "name": "stdout",
          "text": [
            "White is sitting\n",
            "Black is sitting\n",
            "Brown is jumping\n",
            "Red is purring\n",
            "Blue is sitting\n",
            "Purple is jumping\n"
          ]
        }
      ]
    },
    {
      "cell_type": "markdown",
      "source": [
        "##Task 4"
      ],
      "metadata": {
        "id": "zIjsOQsZRgDX"
      }
    },
    {
      "cell_type": "code",
      "source": [
        "class Student:\n",
        "  def __init__(self,x=''):\n",
        "    if x == '':\n",
        "      print('Hello Default Student')\n",
        "    else:\n",
        "      print(f'Hello {x}')\n",
        "    self.name = x\n",
        "\n",
        "  def quizcalc(self,*nums):\n",
        "    total = 0\n",
        "    for i in nums:\n",
        "      total += i\n",
        "    self.ret = total/3\n",
        "\n",
        "  def printdetail(self):\n",
        "    print(f'Your average quiz score is {self.ret}')\n",
        "\n",
        "# Write your code here\n",
        "s1 = Student()\n",
        "s1.quizcalc(10)\n",
        "print('--------------------------------')\n",
        "s1.printdetail()\n",
        "s2 = Student('Harry')\n",
        "s2.quizcalc(10,8)\n",
        "print('--------------------------------')\n",
        "s2.printdetail()\n",
        "s3 = Student('Hermione')\n",
        "s3.quizcalc(10,9,10)\n",
        "print('--------------------------------')\n",
        "s3.printdetail() \n",
        "\n",
        "# Output\n",
        "# --------------------------------\n",
        "# Hello default student\n",
        "# Your average quiz score is 3.3333333333333335\n",
        "# --------------------------------\n",
        "# Hello Harry\n",
        "# Your average quiz score is 6.0\n",
        "# -------------------------------- \n",
        "# Hello Hermione\n",
        "# Your average quiz score is 9.666666666666666"
      ],
      "metadata": {
        "colab": {
          "base_uri": "https://localhost:8080/"
        },
        "id": "AmEyfIc1S1lw",
        "outputId": "c9a09f06-2197-49ed-b75d-9a91e4bf5983"
      },
      "execution_count": null,
      "outputs": [
        {
          "output_type": "stream",
          "name": "stdout",
          "text": [
            "Hello Default Student\n",
            "--------------------------------\n",
            "Your average quiz score is 3.3333333333333335\n",
            "Hello Harry\n",
            "--------------------------------\n",
            "Your average quiz score is 6.0\n",
            "Hello Hermione\n",
            "--------------------------------\n",
            "Your average quiz score is 9.666666666666666\n"
          ]
        }
      ]
    },
    {
      "cell_type": "markdown",
      "source": [
        "##Task 5"
      ],
      "metadata": {
        "id": "SevV1BPYRhZ_"
      }
    },
    {
      "cell_type": "code",
      "source": [
        "class Student:\n",
        "  def __init__(self,name,no,job=''):\n",
        "    self.name = name\n",
        "    self._id = no\n",
        "    self.dept = job\n",
        "\n",
        "  def dailyEffort(self,hour):\n",
        "    self.hour = hour\n",
        "  \n",
        "  def printDetails(self):\n",
        "    if self.hour <= 2:\n",
        "       sugg = 'Suggestion: Should give more effort!'\n",
        "    if self.hour <= 4:\n",
        "       sugg = 'Suggestion: Keep up the good work!'\n",
        "    else:\n",
        "      sugg = 'Suggestion: Excellent! Now motivate others.'\n",
        "\n",
        "    print(f'Name: {self.name}')\n",
        "    print(f'ID: {self._id}')\n",
        "    print(f'Department: {self.dept}')\n",
        "    print(f'Daily Effort: {self.hour} hour(s)')\n",
        "    print(f'Suggestion: {sugg}')\n",
        "\n",
        "# Write your code here.\n",
        "harry = Student('Harry Potter', 123)\n",
        "harry.dailyEffort(3)\n",
        "harry.printDetails()\t\n",
        "print('========================')\n",
        "john = Student(\"John Wick\", 456, \"BBA\")\n",
        "john.dailyEffort(2)\n",
        "john.printDetails()\n",
        "print('========================')\n",
        "naruto = Student(\"Naruto Uzumaki\", 777, \"Ninja\")\n",
        "naruto.dailyEffort(6)\n",
        "naruto.printDetails()\n",
        "\n",
        "# OUTPUT:\n",
        "# Name: Harry Potter\n",
        "# ID: 123\n",
        "# Department: CSE\n",
        "# Daily Effort: 3 hour(s)\n",
        "# Suggestion: Keep up the good work!\n",
        "# ========================\n",
        "# Name: John Wick\n",
        "# ID: 456\n",
        "# Department: BBA\n",
        "# Daily Effort: 2 hour(s)\n",
        "# Suggestion: Should give more effort!\n",
        "# ========================\n",
        "# Name: Naruto Uzumaki\n",
        "# ID: 777\n",
        "# Department: Ninja\n",
        "# Daily Effort: 6 hour(s)\n",
        "# Suggestion: Excellent! Now motivate others."
      ],
      "metadata": {
        "colab": {
          "base_uri": "https://localhost:8080/"
        },
        "id": "6uWc84a_ZTap",
        "outputId": "8b9114a0-7a9a-422c-9724-074e3d69dfdb"
      },
      "execution_count": null,
      "outputs": [
        {
          "output_type": "stream",
          "name": "stdout",
          "text": [
            "Name: Harry Potter\n",
            "ID: 123\n",
            "Department: \n",
            "Daily Effort: 3 hour(s)\n",
            "Suggestion: Suggestion: Keep up the good work!\n",
            "========================\n",
            "Name: John Wick\n",
            "ID: 456\n",
            "Department: BBA\n",
            "Daily Effort: 2 hour(s)\n",
            "Suggestion: Suggestion: Keep up the good work!\n",
            "========================\n",
            "Name: Naruto Uzumaki\n",
            "ID: 777\n",
            "Department: Ninja\n",
            "Daily Effort: 6 hour(s)\n",
            "Suggestion: Suggestion: Excellent! Now motivate others.\n"
          ]
        }
      ]
    },
    {
      "cell_type": "markdown",
      "source": [
        "##Task 6"
      ],
      "metadata": {
        "id": "UhTjFKW-R97H"
      }
    },
    {
      "cell_type": "code",
      "source": [
        "class Patient:\n",
        "  def __init__(self,name,age):\n",
        "    self.name=name\n",
        "    self.age=age\n",
        "    self.symptoms = []\n",
        "\n",
        "  def add_Symptom(self,*symps):\n",
        "    for i in symps : self.symptoms.append(i)\n",
        "  \n",
        "  def printPatientDetail(self):\n",
        "    print(f\"Name: {self.name}\")\n",
        "    print(f\"Age: {self.age}\")\n",
        "    container = ''\n",
        "    for name in self.symptoms:\n",
        "      if self.symptoms.index(name)!=len(self.symptoms)-1:\n",
        "        container += name + ', '\n",
        "      else:\n",
        "        container += name\n",
        "    print(container)\n",
        "    print(f\"Symptoms: {container}\")\n",
        "  \n",
        "# Write your code here.\n",
        "p1 = Patient(\"Thomas\", 23)\n",
        "p1.add_Symptom(\"Headache\")\n",
        "p2 = Patient(\"Carol\", 20)\n",
        "p2.add_Symptom(\"Vomiting\", \"Coughing\")\n",
        "p3 = Patient(\"Mike\", 25)\n",
        "p3.add_Symptom(\"Fever\", \"Headache\", \"Coughing\")\n",
        "print(\"=========================\")\n",
        "p1.printPatientDetail()\n",
        "print(\"=========================\")\n",
        "p2.printPatientDetail()\n",
        "print(\"=========================\")\n",
        "p3.printPatientDetail()\n",
        " \n",
        "# OUTPUT:\n",
        "# =========================\n",
        "# Name: Thomas\n",
        "# Age: 23\n",
        "# Symptoms: Headache\n",
        "# =========================\n",
        "# Name: Carol\n",
        "# Age: 20\n",
        "# Symptoms: Vomiting, Coughing\n",
        "# =========================\n",
        "# Name: Mike\n",
        "# Age: 25\n",
        "# Symptoms: Fever, Headache, Coughing"
      ],
      "metadata": {
        "id": "VFSt96MfbHS9",
        "colab": {
          "base_uri": "https://localhost:8080/"
        },
        "outputId": "d5b4ead4-11bc-4b7f-f6d7-cc8829dafc5d"
      },
      "execution_count": null,
      "outputs": [
        {
          "output_type": "stream",
          "name": "stdout",
          "text": [
            "=========================\n",
            "Name: Thomas\n",
            "Age: 23\n",
            "Headache\n",
            "Symptoms: Headache\n",
            "=========================\n",
            "Name: Carol\n",
            "Age: 20\n",
            "Vomiting, Coughing\n",
            "Symptoms: Vomiting, Coughing\n",
            "=========================\n",
            "Name: Mike\n",
            "Age: 25\n",
            "Fever, Headache, Coughing\n",
            "Symptoms: Fever, Headache, Coughing\n"
          ]
        }
      ]
    },
    {
      "cell_type": "markdown",
      "source": [
        "##Task 7"
      ],
      "metadata": {
        "id": "KV5jKbEvSBM_"
      }
    },
    {
      "cell_type": "code",
      "source": [
        "class Match:\n",
        "  def __init__(self,x):\n",
        "    self.team1 = x.split('-')[0]\n",
        "    self.team2 = x.split('-')[1]\n",
        "    self.over = 0\n",
        "    self.run = 0\n",
        "    self.wicket = 0\n",
        "    print('5..4..3..2..1.. Play !!!')\n",
        "\n",
        "  def print_scoreboard(self):\n",
        "    return f\"Batting Team: {self.team1} \\nBowling Team: {self.team2} \\nTotal Runs: {self.run} Wickets: {self.wicket} Overs: {self.over}\"\n",
        "\n",
        "  def add_run(self,x):\n",
        "    self.run += x\n",
        "\n",
        "  def add_over(self,x):\n",
        "    if x >= 5:\n",
        "      print(f\"Warning! Cannot add {x} over/s ({x} over match)\")    \n",
        "    else:\n",
        "      self.over += x\n",
        "      self.run += 1\n",
        "\n",
        "  def add_wicket(self,x):\n",
        "    self.wicket += x\n",
        "\n",
        "# Write your code here.\n",
        "match1 = Match(\"Rangpur Riders-Cumilla Victorians\")\n",
        "print(\"=========================\")\n",
        "match1.add_run(4)\n",
        "match1.add_run(6)\n",
        "match1.add_over(1)\n",
        "print(match1.print_scoreboard())\n",
        "print(\"=========================\")\n",
        "match1.add_over(5)\n",
        "print(\"=========================\")\n",
        "match1.add_wicket(1)\n",
        "print(match1.print_scoreboard())\n",
        "\n",
        "# OUTPUT:\n",
        "# 5..4..3..2..1.. Play !!!\n",
        "# ============================\n",
        "# Batting Team: Rangpur Riders\n",
        "# Bowling Team: Cumilla Victorians\n",
        "# Total Runs: 11 Wickets: 0 Overs: 1\n",
        "# ============================\n",
        "# Warning! Cannot add 5 over/s (5 over match)\n",
        "# ============================\n",
        "# Batting Team: Rangpur Riders\n",
        "# Bowling Team: Cumilla Victorians\n",
        "# Total Runs: 11 Wickets: 1 Overs: 1"
      ],
      "metadata": {
        "colab": {
          "base_uri": "https://localhost:8080/"
        },
        "id": "t8GkMwRAR80s",
        "outputId": "b0b75bb7-25b0-4399-cc7f-b59d4739717f"
      },
      "execution_count": null,
      "outputs": [
        {
          "output_type": "stream",
          "name": "stdout",
          "text": [
            "5..4..3..2..1.. Play !!!\n",
            "=========================\n",
            "Batting Team: Rangpur Riders \n",
            "Bowling Team: Cumilla Victorians \n",
            "Total Runs: 11 Wickets: 0 Overs: 1\n",
            "=========================\n",
            "Warning! Cannot add 5 over/s (5 over match)\n",
            "=========================\n",
            "Batting Team: Rangpur Riders \n",
            "Bowling Team: Cumilla Victorians \n",
            "Total Runs: 11 Wickets: 1 Overs: 1\n"
          ]
        }
      ]
    },
    {
      "cell_type": "markdown",
      "source": [
        "##Task 8"
      ],
      "metadata": {
        "id": "hUNNk3qeSCvh"
      }
    },
    {
      "cell_type": "code",
      "source": [
        "class ParcelKoro:\n",
        "  def __init__(self,name='No name set',no=0):\n",
        "    self.name = name\n",
        "    self.product_weight = no\n",
        "    self.location_charge = 50\n",
        "\n",
        "  def calculateFee(self,loc='yoberry'):\n",
        "    if loc != 'yoberry':\n",
        "      self.location_charge = 100\n",
        "    if self.product_weight>0:\n",
        "      self.total_fee = (self.product_weight * 20) + self.location_charge\n",
        "    else:\n",
        "      self.total_fee = 0\n",
        "  \n",
        "  def printDetails(self):\n",
        "    print(f\"Customer Name: {self.name}\")\n",
        "    print(f\"Product Weight: {self.product_weight}\")\n",
        "    print(f\"Total fee: {self.total_fee}\")\n",
        "\n",
        "# Write your code here.\n",
        "print(\"**********************\")\n",
        "p1 = ParcelKoro()\n",
        "p1.calculateFee()\n",
        "p1.printDetails()\n",
        "print(\"**********************\")\n",
        "p2 = ParcelKoro('Bob The Builder')\n",
        "p2.calculateFee()\n",
        "p2.printDetails()\n",
        "print(\"----------------------------\")\n",
        "p2.product_weight = 15\n",
        "p2.calculateFee()\n",
        "p2.printDetails()\n",
        "print(\"**********************\")\n",
        "p3 = ParcelKoro('Dora The Explorer', 10)\n",
        "p3.calculateFee('Dhanmondi')\n",
        "p3.printDetails()\n",
        "\n",
        "# OUTPUT:\n",
        "# **********************\n",
        "# Customer Name: No name set\n",
        "# Product Weight: 0\n",
        "# Total fee: 0\n",
        "# **********************\n",
        "# Customer Name: Bob The Builder\n",
        "# Product Weight: 0\n",
        "# Total fee: 0\n",
        "# ----------------------------\n",
        "# Customer Name: Bob The Builder\n",
        "# Product Weight: 15\n",
        "# Total fee: 350\n",
        "# **********************\n",
        "# Customer Name: Dora The Explorer\n",
        "# Product Weight: 10\n",
        "# Total fee: 300"
      ],
      "metadata": {
        "colab": {
          "base_uri": "https://localhost:8080/"
        },
        "id": "Bt7bCBQWSArY",
        "outputId": "b0157b02-a575-4386-bc09-f1b84939d875"
      },
      "execution_count": null,
      "outputs": [
        {
          "output_type": "stream",
          "name": "stdout",
          "text": [
            "**********************\n",
            "Customer Name: No name set\n",
            "Product Weight: 0\n",
            "Total fee: 0\n",
            "**********************\n",
            "Customer Name: Bob The Builder\n",
            "Product Weight: 0\n",
            "Total fee: 0\n",
            "----------------------------\n",
            "Customer Name: Bob The Builder\n",
            "Product Weight: 15\n",
            "Total fee: 350\n",
            "**********************\n",
            "Customer Name: Dora The Explorer\n",
            "Product Weight: 10\n",
            "Total fee: 300\n"
          ]
        }
      ]
    },
    {
      "cell_type": "markdown",
      "source": [
        "##Task 9"
      ],
      "metadata": {
        "id": "e5B6N2rwSEPP"
      }
    },
    {
      "cell_type": "code",
      "source": [
        "class Batsman:\n",
        "  def __init__(self,*info):\n",
        "    if ord(str(info[0])[0]) in range(65,91):\n",
        "      self.name = info[0]\n",
        "      self.runs = info[1]\n",
        "      self.balls = info[2]\n",
        "    else:\n",
        "      self.name = 'New Batsman'\n",
        "      self.runs = info[0]\n",
        "      self.balls = info[1]\n",
        "\n",
        "  def battingStrikeRate(self):\n",
        "    battingStrikeRate = self.runs / self.balls * 100\n",
        "    return battingStrikeRate\n",
        "\n",
        "  def setName(self,name):\n",
        "    self.name = name\n",
        "\n",
        "  def printCareerStatistics(self):\n",
        "    print(f\"Name: {self.name}\")\n",
        "    print(f\"Runs Scored: {self.runs} , Balls Faced: {self.balls}\")\n",
        "    \n",
        "# Write your code here\n",
        "b1 = Batsman(6101, 7380)\n",
        "b1.printCareerStatistics()\n",
        "print(\"============================\")\n",
        "b2 = Batsman(\"Liton Das\", 678, 773)\n",
        "b2.printCareerStatistics()\n",
        "print(\"----------------------------\")\n",
        "print(b2.battingStrikeRate())\n",
        "print(\"============================\")\n",
        "b1.setName(\"Shakib Al Hasan\")\n",
        "b1.printCareerStatistics()\n",
        "print(\"----------------------------\")\n",
        "print(b1.battingStrikeRate())\n",
        "\n",
        "# Output\n",
        "# Name: New Batsman\n",
        "# Runs Scored: 6101 , Balls Faced: 7380\n",
        "# ============================\n",
        "# Name: Liton Das\n",
        "# Runs Scored: 678 , Balls Faced: 773\n",
        "# ----------------------------\n",
        "# 87.71021992238033\n",
        "# ============================\n",
        "# Name: Shakib Al Hasan\n",
        "# Runs Scored: 6101 , Balls Faced: 7380\n",
        "# ----------------------------\n",
        "# 82.66937669376694"
      ],
      "metadata": {
        "colab": {
          "base_uri": "https://localhost:8080/"
        },
        "id": "-W7c4AORR88y",
        "outputId": "3836340a-bdfa-4fb8-f658-317bdad119dd"
      },
      "execution_count": null,
      "outputs": [
        {
          "output_type": "stream",
          "name": "stdout",
          "text": [
            "Name: New Batsman\n",
            "Runs Scored: 6101 , Balls Faced: 7380\n",
            "============================\n",
            "Name: Liton Das\n",
            "Runs Scored: 678 , Balls Faced: 773\n",
            "----------------------------\n",
            "87.71021992238033\n",
            "============================\n",
            "Name: Shakib Al Hasan\n",
            "Runs Scored: 6101 , Balls Faced: 7380\n",
            "----------------------------\n",
            "82.66937669376694\n"
          ]
        }
      ]
    },
    {
      "cell_type": "markdown",
      "source": [
        "##Task 10"
      ],
      "metadata": {
        "id": "QnQyC3jjRlP4"
      }
    },
    {
      "cell_type": "code",
      "source": [
        "class EPL_Team:\n",
        "  def __init__(self,x,y=''):\n",
        "    self.name = x\n",
        "    self.anthem = y\n",
        "    self.title = 0\n",
        "  def showClubInfo(self):\n",
        "    return f'Name: {self.name} \\nSong: {self.anthem} \\nTotal No of title: {self.title}'\n",
        "\n",
        "  def increaseTitle(self):\n",
        "    self.title += 1\n",
        "\n",
        "  def changeSong(self,x):\n",
        "    self.anthem = x\n",
        "\n",
        "# Write your code here\n",
        "manu = EPL_Team('Manchester United', 'Glory Glory Man United')\n",
        "chelsea = EPL_Team('Chelsea')\n",
        "print('===================')\n",
        "print(manu.showClubInfo())\n",
        "print('##################')\n",
        "manu.increaseTitle()\n",
        "print(manu.showClubInfo())\n",
        "print('===================')\n",
        "print(chelsea.showClubInfo())\n",
        "chelsea.changeSong('Keep the blue flag flying high')\n",
        "print(chelsea.showClubInfo())\n",
        "\n",
        "# Output\n",
        "# ===================\n",
        "# Name: Manchester United \n",
        "# Song: Glory Glory Man United\n",
        "# Total No of title: 0\n",
        "# ##################\n",
        "# Name: Manchester United \n",
        "# Song: Glory Glory Man United\n",
        "# Total No of title: 1\n",
        "# ===================\n",
        "# Name: Chelsea \n",
        "# Song: No Slogan\n",
        "# Total No of title: 0\n",
        "# Name: Chelsea \n",
        "# Song: Keep the blue flag flying high\n",
        "# Total No of title: 0"
      ],
      "metadata": {
        "colab": {
          "base_uri": "https://localhost:8080/"
        },
        "id": "1ZXAn1JmbHpH",
        "outputId": "38748cfe-67a6-4972-ae0f-e2ea02dc7575"
      },
      "execution_count": null,
      "outputs": [
        {
          "output_type": "stream",
          "name": "stdout",
          "text": [
            "===================\n",
            "Name: Manchester United \n",
            "Song: Glory Glory Man United \n",
            "Total No of title: 0\n",
            "##################\n",
            "Name: Manchester United \n",
            "Song: Glory Glory Man United \n",
            "Total No of title: 1\n",
            "===================\n",
            "Name: Chelsea \n",
            "Song:  \n",
            "Total No of title: 0\n",
            "Name: Chelsea \n",
            "Song: Keep the blue flag flying high \n",
            "Total No of title: 0\n"
          ]
        }
      ]
    },
    {
      "cell_type": "markdown",
      "source": [
        "##Task 11"
      ],
      "metadata": {
        "id": "VcgsUpTIRrPA"
      }
    },
    {
      "cell_type": "code",
      "source": [
        "class Author:\n",
        "  def __init__(self,*authors):\n",
        "    if len(authors) == 0:\n",
        "      self.name = 'Default'\n",
        "    else:\n",
        "      self.name = authors\n",
        "    self.books = []\n",
        "    if len(authors)>1:\n",
        "      for i in authors:\n",
        "        if i != authors[0]:\n",
        "          self.books.append(i)\n",
        "  def addBooks(self,*booksT):\n",
        "    for book in booksT:\n",
        "      self.books.append(book)\n",
        "\n",
        "  def changeName(self,newName):\n",
        "    self.name = newName\n",
        "\n",
        "  def printDetails(self):\n",
        "    if \"Mario\" in self.name:\n",
        "      print(f'Author Name: {self.name}')\n",
        "    else:\n",
        "      print(f'Author Name: {self.name[0]}')\n",
        "    print(f'--------')\n",
        "    print(f'List of Books:')\n",
        "    for book in self.books : print(book)\n",
        "    # print([book*69 for book in self.books if book!='uwu'])\n",
        "    # [0, 4, 16, 36, 64]\n",
        "auth1 = Author('Humayun Ahmed')\n",
        "auth1.addBooks('Deyal', 'Megher Opor Bari')\n",
        "auth1.printDetails()\n",
        "print(\"===================\")\n",
        "auth2 = Author()\n",
        "print(auth2.name)\n",
        "auth2.changeName(\"Mario Puzo\")\n",
        "auth2.addBooks('The Godfather', 'Omerta', 'The Sicilian')\n",
        "print(\"===================\")\n",
        "auth2.printDetails()\n",
        "print(\"===================\")\n",
        "auth3 = Author('Paolo Coelho', 'The Alchemist', 'The Fifth Mountain')\n",
        "auth3.printDetails()\n",
        "\n",
        "# Output\n",
        "# Author Name:  Humayun Ahmed\n",
        "# --------\n",
        "# List of Books:\n",
        "# Deyal\n",
        "# Megher Opor Bari\n",
        "# ===================\n",
        "# Default\n",
        "# ===================\n",
        "# Author Name:  Mario Puzo\n",
        "# --------\n",
        "# List of Books:\n",
        "# The Godfather\n",
        "# Omerta\n",
        "# The Sicilian\n",
        "# ===================\n",
        "# Author Name:  Paolo Coelho\n",
        "# --------\n",
        "# List of Books:\n",
        "# The Alchemist\n",
        "# The Fifth Mountain"
      ],
      "metadata": {
        "colab": {
          "base_uri": "https://localhost:8080/"
        },
        "id": "ToIQLfSScV1f",
        "outputId": "b4c9cbee-afdb-40a1-9c96-bb23674591ac"
      },
      "execution_count": null,
      "outputs": [
        {
          "output_type": "stream",
          "name": "stdout",
          "text": [
            "Author Name: Humayun Ahmed\n",
            "--------\n",
            "List of Books:\n",
            "Deyal\n",
            "Megher Opor Bari\n",
            "===================\n",
            "Default\n",
            "===================\n",
            "Author Name: Mario Puzo\n",
            "--------\n",
            "List of Books:\n",
            "The Godfather\n",
            "Omerta\n",
            "The Sicilian\n",
            "===================\n",
            "Author Name: Paolo Coelho\n",
            "--------\n",
            "List of Books:\n",
            "The Alchemist\n",
            "The Fifth Mountain\n"
          ]
        }
      ]
    },
    {
      "cell_type": "markdown",
      "source": [
        "##Task 12"
      ],
      "metadata": {
        "id": "8CvMQyMpRy7n"
      }
    },
    {
      "cell_type": "code",
      "source": [
        "# Write your code here\n",
        "class TaxiLagbe:\n",
        "  def __init__(self,x,y):\n",
        "    self.passenger = []\n",
        "    self.location = y\n",
        "    self.ticket = x\n",
        "    self.fare = 0\n",
        "\n",
        "  def addPassenger(self,*passengers):\n",
        "    if len(self.passenger)<4:\n",
        "      for i in range(len(passengers)):  \n",
        "        print(f\"Dear {passengers[i].split('_')[0]}! Welcome to TaxiLagbe.\")\n",
        "        self.fare += int(passengers[i].split('_')[1])\n",
        "      for passenger in passengers:  \n",
        "        self.passenger.append(passenger)\n",
        "    else:\n",
        "      print('Taxi Full! No more passengers can be added.')\n",
        "  \n",
        "  def printDetails(self):\n",
        "    print(f\"Trip info for Taxi number: {self.ticket}\")\n",
        "    print(f\"This taxi can cover only {self.location} area.\")\n",
        "    print(f\"Total passengers: {len(self.passenger)}\")\n",
        "    print(f\"Passenger lists:\")\n",
        "    container = ''\n",
        "    for i in self.passenger:  \n",
        "      name = i.split('_')[0]\n",
        "      if self.passenger.index(i) != (len(self.passenger)-1):\n",
        "        container += name + ', '\n",
        "      else:\n",
        "        container += name\n",
        "    print(container)\n",
        "    print(f\"Total collected fare: {self.fare} Taka\")\n",
        "\n",
        "# Driver\n",
        "taxi1 = TaxiLagbe('1010-01', 'Dhaka')\n",
        "print('-------------------------------')\n",
        "taxi1.addPassenger('Walker_100', 'Wood_200')\n",
        "taxi1.addPassenger('Matt_100')\n",
        "taxi1.addPassenger('Wilson_105')\n",
        "print('-------------------------------')\n",
        "taxi1.printDetails()\n",
        "print('-------------------------------')\n",
        "taxi1.addPassenger('Karen_200')\n",
        "print('-------------------------------')\n",
        "taxi1.printDetails()\n",
        "print('-------------------------------')\n",
        "taxi2 = TaxiLagbe('1010-02', 'Khulna')\n",
        "taxi2.addPassenger('Ronald_115')\n",
        "taxi2.addPassenger('Parker_215')\n",
        "print('-------------------------------')\n",
        "taxi2.printDetails()\n",
        "\n",
        "# Output\n",
        "# --------------------------------------\n",
        "# Dear Walker! Welcome to TaxiLagbe.\n",
        "# Dear Wood! Welcome to TaxiLagbe.\n",
        "# Dear Matt! Welcome to TaxiLagbe.\n",
        "# Dear Wilson! Welcome to TaxiLagbe.\n",
        "# --------------------------------------\n",
        "# Trip info for Taxi number: 1010-01\n",
        "# This taxi can cover only Dhaka area.\n",
        "# Total passengers: 4\n",
        "# Passenger lists:\n",
        "# Walker, Wood, Matt, Wilson\n",
        "# Total collected fare: 505 Taka\n",
        "# --------------------------------------\n",
        "# Taxi Full! No more passengers can be added.\n",
        "# --------------------------------------\n",
        "# Trip info for Taxi number: 1010-01\n",
        "# This taxi can cover only Dhaka area.\n",
        "# Total passengers: 4\n",
        "# Passenger lists:\n",
        "# Walker, Wood, Matt, Wilson\n",
        "# Total collected fare: 505 Taka\n",
        "# --------------------------------------\n",
        "# Dear Ronald! Welcome to TaxiLagbe.\n",
        "# Dear Parker! Welcome to TaxiLagbe.\n",
        "# --------------------------------------\n",
        "# Trip info for Taxi number: 1010-02\n",
        "# This taxi can cover only Khulna area.\n",
        "# Total passengers: 2\n",
        "# Passenger lists:\n",
        "# Ronald, Parker\n",
        "# Total collected fare: 330 Taka"
      ],
      "metadata": {
        "colab": {
          "base_uri": "https://localhost:8080/"
        },
        "id": "7Otwz2UrRyIa",
        "outputId": "fb5eb87b-2e90-4ddc-c8f0-b84fbf2a2161"
      },
      "execution_count": null,
      "outputs": [
        {
          "output_type": "stream",
          "name": "stdout",
          "text": [
            "-------------------------------\n",
            "Dear Walker! Welcome to TaxiLagbe.\n",
            "Dear Wood! Welcome to TaxiLagbe.\n",
            "Dear Matt! Welcome to TaxiLagbe.\n",
            "Dear Wilson! Welcome to TaxiLagbe.\n",
            "-------------------------------\n",
            "Trip info for Taxi number: 1010-01\n",
            "This taxi can cover only Dhaka area.\n",
            "Total passengers: 4\n",
            "Passenger lists:\n",
            "Walker, Wood, Matt, Wilson\n",
            "Total collected fare: 505 Taka\n",
            "-------------------------------\n",
            "Taxi Full! No more passengers can be added.\n",
            "-------------------------------\n",
            "Trip info for Taxi number: 1010-01\n",
            "This taxi can cover only Dhaka area.\n",
            "Total passengers: 4\n",
            "Passenger lists:\n",
            "Walker, Wood, Matt, Wilson\n",
            "Total collected fare: 505 Taka\n",
            "-------------------------------\n",
            "Dear Ronald! Welcome to TaxiLagbe.\n",
            "Dear Parker! Welcome to TaxiLagbe.\n",
            "-------------------------------\n",
            "Trip info for Taxi number: 1010-02\n",
            "This taxi can cover only Khulna area.\n",
            "Total passengers: 2\n",
            "Passenger lists:\n",
            "Ronald, Parker\n",
            "Total collected fare: 330 Taka\n"
          ]
        }
      ]
    },
    {
      "cell_type": "markdown",
      "source": [
        "##Task 13"
      ],
      "metadata": {
        "id": "c-iTcvMHRtPI"
      }
    },
    {
      "cell_type": "code",
      "source": [
        "# Write your code here\n",
        "class Account:\n",
        "  def __init__(self,x='Default Account',y=0):\n",
        "    self.name = x\n",
        "    self.balance = y\n",
        "  def details(self):\n",
        "    return f'{self.name} \\n{float(self.balance)}'\n",
        "  def withdraw(self,money):\n",
        "    if self.balance - money < 3071:\n",
        "      print(\"Sorry, Withdraw unsuccessful! The account balance after deducting withdraw amount is equal to or less than minimum.\")\n",
        "    else:\n",
        "      self.balance -= money \n",
        "      print(f\"Withdraw successful! New balance is: {self.balance}\")\n",
        "a1 = Account()\n",
        "print(a1.details())\n",
        "print(\"------------------------\")\n",
        "a1.name = \"Oliver\"\n",
        "a1.balance = 10000.0\n",
        "print(a1.details())\n",
        "print(\"------------------------\")\n",
        "a2 = Account(\"Liam\")\n",
        "print(a2.details())\n",
        "print(\"------------------------\")\n",
        "a3 = Account(\"Noah\",400)\n",
        "print(a3.details())\n",
        "print(\"------------------------\")\n",
        "a1.withdraw(6930)\n",
        "print(\"------------------------\")\n",
        "a2.withdraw(600)\n",
        "print(\"------------------------\")\n",
        "a1.withdraw(6929)\n",
        "\n",
        "# Output\n",
        "# Default Account\n",
        "# 0.0\n",
        "# ------------------------\n",
        "# Oliver\n",
        "# 10000.0\n",
        "# ------------------------\n",
        "# Liam\n",
        "# 0.0\n",
        "# ------------------------\n",
        "# Noah\n",
        "# 400.0\n",
        "# ------------------------\n",
        "# Sorry, Withdraw unsuccessful! The account balance after deducting withdraw amount is equal to or less than minimum.\n",
        "# ------------------------\n",
        "# Sorry, Withdraw unsuccessful! The account balance after deducting withdraw amount is equal to or less than minimum.\n",
        "# ------------------------\n",
        "# Withdraw successful! New balance is: 3071.0"
      ],
      "metadata": {
        "colab": {
          "base_uri": "https://localhost:8080/"
        },
        "id": "zjxzPeYgcV7P",
        "outputId": "68db7d45-15cd-476f-a21c-599fbc36c67d"
      },
      "execution_count": null,
      "outputs": [
        {
          "output_type": "stream",
          "name": "stdout",
          "text": [
            "Default Account \n",
            "0.0\n",
            "------------------------\n",
            "Oliver \n",
            "10000.0\n",
            "------------------------\n",
            "Liam \n",
            "0.0\n",
            "------------------------\n",
            "Noah \n",
            "400.0\n",
            "------------------------\n",
            "Sorry, Withdraw unsuccessful! The account balance after deducting withdraw amount is equal to or less than minimum.\n",
            "------------------------\n",
            "Sorry, Withdraw unsuccessful! The account balance after deducting withdraw amount is equal to or less than minimum.\n",
            "------------------------\n",
            "Withdraw successful! New balance is: 3071.0\n"
          ]
        }
      ]
    },
    {
      "cell_type": "markdown",
      "source": [
        "##Task 14"
      ],
      "metadata": {
        "id": "L4QT0wlNR5YP"
      }
    },
    {
      "cell_type": "code",
      "source": [
        "class StudentDatabase:\n",
        "  def __init__(self,name,studentId):\n",
        "    self.name = name\n",
        "    self.id = studentId\n",
        "    self.grades = {}\n",
        "\n",
        "  def calculateGPA(self,lst,sem):\n",
        "    const = []\n",
        "    total = 0\n",
        "    for i in lst:\n",
        "      const.append(i[:6:])\n",
        "      total += float(i[7::])\n",
        "    gpa = total/len(lst)\n",
        "    self.grades[sem] = {tuple(const):round(gpa,3)}\n",
        "\n",
        "  def printDetails(self):\n",
        "    print(f'Name: {self.name}')\n",
        "    print(f'ID: {self.id}')\n",
        "    for sem,v in self.grades.items():\n",
        "      print(f'Courses taken in {sem}:')\n",
        "      for courses,gpa in v.items():\n",
        "        for course in courses: print(course)\n",
        "        print(f'GPA: {gpa}')\n",
        "\n",
        "s1 = StudentDatabase('Pietro', '10101222')\n",
        "s1.calculateGPA(['CSE230: 4.0', 'CSE220: 4.0', 'MAT110: 4.0'],\n",
        "'Summer2020')\n",
        "s1.calculateGPA(['CSE250: 3.7', 'CSE330: 4.0'], 'Summer2021')\n",
        "print(f'Grades for {s1.name}\\n{s1.grades}')\n",
        "print('------------------------------------------------------')\n",
        "s1.printDetails()\n",
        "s2 = StudentDatabase('Wanda', '10103332')\n",
        "s2.calculateGPA(['CSE111: 3.7', 'CSE260: 3.7', 'ENG101: 4.0'],\n",
        "'Summer2022')\n",
        "print('------------------------------------------------------')\n",
        "print(f'Grades for {s2.name}\\n{s2.grades}')\n",
        "print('------------------------------------------------------')\n",
        "s2.printDetails()\n",
        "\n",
        "\n",
        "# Output\n",
        "# Grades for Pietro\n",
        "# {'Summer2020': {('CSE230', 'CSE220',\n",
        "# 'MAT110'): 4.0}, 'Summer2021':\n",
        "# {('CSE250', 'CSE330'): 3.85}}\n",
        "# -----------------------------------------------\n",
        "# Name: Pietro\n",
        "# ID: 10101222\n",
        "# Courses taken in Summer2020:\n",
        "# CSE230\n",
        "# CSE220\n",
        "# MAT110\n",
        "# GPA: 4.0\n",
        "# Courses taken in Summer2021:\n",
        "# CSE250\n",
        "# CSE330\n",
        "# GPA: 3.85\n",
        "# -----------------------------------------------\n",
        "# Grades for Wanda\n",
        "# {'Summer2022': {('CSE111', 'CSE260',\n",
        "# 'ENG101'): 3.8}}\n",
        "# -----------------------------------------------\n",
        "# Name: Wanda\n",
        "# ID: 10103332\n",
        "# Courses taken in Summer2022:\n",
        "# CSE111\n",
        "# CSE260\n",
        "# ENG101\n",
        "# GPA: 3.8"
      ],
      "metadata": {
        "colab": {
          "base_uri": "https://localhost:8080/"
        },
        "id": "QHhqtFzrRwti",
        "outputId": "26f18df0-aff4-44ca-99db-d6eacaba0cc7"
      },
      "execution_count": null,
      "outputs": [
        {
          "output_type": "stream",
          "name": "stdout",
          "text": [
            "Grades for Pietro\n",
            "{'Summer2020': {('CSE230', 'CSE220', 'MAT110'): 4.0}, 'Summer2021': {('CSE250', 'CSE330'): 3.85}}\n",
            "------------------------------------------------------\n",
            "Name: Pietro\n",
            "ID: 10101222\n",
            "Courses taken in Summer2020:\n",
            "CSE230\n",
            "CSE220\n",
            "MAT110\n",
            "GPA: 4.0\n",
            "Courses taken in Summer2021:\n",
            "CSE250\n",
            "CSE330\n",
            "GPA: 3.85\n",
            "------------------------------------------------------\n",
            "Grades for Wanda\n",
            "{'Summer2022': {('CSE111', 'CSE260', 'ENG101'): 3.8}}\n",
            "------------------------------------------------------\n",
            "Name: Wanda\n",
            "ID: 10103332\n",
            "Courses taken in Summer2022:\n",
            "CSE111\n",
            "CSE260\n",
            "ENG101\n",
            "GPA: 3.8\n"
          ]
        }
      ]
    },
    {
      "cell_type": "markdown",
      "source": [
        "# Task 15"
      ],
      "metadata": {
        "id": "bg3DwQeUXT0M"
      }
    },
    {
      "cell_type": "code",
      "source": [
        "class FinalT6A:\n",
        " def __init__(self, x, p):\n",
        "  self.temp, self.sum, self.y = 4, 0, 1\n",
        "  self.temp += 1\n",
        "  self.y = self.temp - p\n",
        "  self.sum = self.temp + x\n",
        "  print(x, self.y, self.sum)\n",
        " def methodA(self):\n",
        "  x = 0\n",
        "  y = 0\n",
        "  y = y + self.y\n",
        "  x = self.y + 2 + self.temp\n",
        "  self.sum = x + y + self.methodB(self.temp, y)\n",
        "  print(x, y, self.sum)\n",
        " def methodB(self, temp, n):\n",
        "  x = 0\n",
        "  temp += 1\n",
        "  self.y = self.y + temp\n",
        "  x = x + 3 + n\n",
        "  self.sum = self.sum + x + self.y\n",
        "  print(x, self.y, self.sum)\n",
        "  return self.sum\n",
        "\n",
        "q1 = FinalT6A(2,1) \n",
        "q1.methodA() \n",
        "q1.methodA()"
      ],
      "metadata": {
        "colab": {
          "base_uri": "https://localhost:8080/"
        },
        "id": "jgwaUKg9XI7D",
        "outputId": "25a62ab0-d262-4a81-f8c4-9316557b4239"
      },
      "execution_count": null,
      "outputs": [
        {
          "output_type": "stream",
          "name": "stdout",
          "text": [
            "2 4 7\n",
            "7 10 24\n",
            "11 4 39\n",
            "13 16 68\n",
            "17 10 95\n"
          ]
        }
      ]
    },
    {
      "cell_type": "markdown",
      "source": [
        "# Task 16"
      ],
      "metadata": {
        "id": "dQyYybQkfwog"
      }
    },
    {
      "cell_type": "code",
      "source": [
        "class Quiz3A:\n",
        "  def __init__(self, k = None):\n",
        "    self.temp, self.sum, self.y = 4, 0, 0\n",
        "    if k != None:\n",
        "      self.temp += 1\n",
        "      self.temp = self.temp\n",
        "      self.sum = self.temp + k\n",
        "      self.y = self.sum - 1\n",
        "    else:\n",
        "      self.y = self.temp - 1\n",
        "      self.sum = self.temp + 1\n",
        "      self.temp += 2 \n",
        "  def methodB(self, m, n):\n",
        "    x = 0\n",
        "    self.temp += 1\n",
        "    self.y = self.y + m + (self.temp)\n",
        "    x = x + 2 + n\n",
        "    self.sum = self.sum + x + self.y\n",
        "    print(x, self.y, self.sum)\n",
        "    return self.sum\n",
        "\n",
        "a1 = Quiz3A()\n",
        "a1.methodB(1,2)\n",
        "a2 = Quiz3A(3)\n",
        "a2.methodB(2,4)\n",
        "a1.methodB(2,1)\n",
        "a2.methodB(1,3)"
      ],
      "metadata": {
        "colab": {
          "base_uri": "https://localhost:8080/"
        },
        "id": "ql_26a47fvw2",
        "outputId": "f6a5ab52-6e0a-43a6-95e1-3c57c4309f79"
      },
      "execution_count": null,
      "outputs": [
        {
          "output_type": "stream",
          "name": "stdout",
          "text": [
            "4 11 20\n",
            "6 15 29\n",
            "3 21 44\n",
            "5 23 57\n"
          ]
        },
        {
          "output_type": "execute_result",
          "data": {
            "text/plain": [
              "57"
            ]
          },
          "metadata": {},
          "execution_count": 6
        }
      ]
    },
    {
      "cell_type": "markdown",
      "source": [
        "# Task 17"
      ],
      "metadata": {
        "id": "M2RcIrNXgV8B"
      }
    },
    {
      "cell_type": "code",
      "source": [
        "class Test5:\n",
        "  def __init__(self):\n",
        "    self.sum = 0\n",
        "    self.y = 0\n",
        "  def methodA(self):\n",
        "    x=y=k=0\n",
        "    msg = [5]\n",
        "    while (k < 2):\n",
        "      y += msg[0]\n",
        "      x = y + self.methodB(msg, k)\n",
        "      self.sum = x + y + msg[0]\n",
        "      print(x ,\" \" , y, \" \" , self.sum)\n",
        "      k+=1\n",
        "  def methodB(self, mg2, mg1):\n",
        "    x = 0\n",
        "    self.y += mg2[0]\n",
        "    x = x + 3 + mg1\n",
        "    self.sum += x + self.y\n",
        "    mg2[0] = self.y + mg1\n",
        "    mg1 += x + 2\n",
        "    print(x , \" \" ,self.y, \" \" , self.sum)\n",
        "    return mg1\n",
        "\n",
        "t1 = Test5()\n",
        "t1.methodA()\n",
        "t1.methodA()\n",
        "t1.methodA()"
      ],
      "metadata": {
        "colab": {
          "base_uri": "https://localhost:8080/"
        },
        "id": "LOakSiJPgPWB",
        "outputId": "ee4f9cd9-cbda-4381-c9d1-917233875115"
      },
      "execution_count": null,
      "outputs": [
        {
          "output_type": "stream",
          "name": "stdout",
          "text": [
            "3   5   8\n",
            "10   5   20\n",
            "4   10   34\n",
            "17   10   38\n",
            "3   15   56\n",
            "10   5   30\n",
            "4   30   64\n",
            "27   20   78\n",
            "3   35   116\n",
            "10   5   50\n",
            "4   70   124\n",
            "47   40   158\n"
          ]
        }
      ]
    },
    {
      "cell_type": "markdown",
      "source": [
        "# Task 18"
      ],
      "metadata": {
        "id": "PGIdbTWegaCh"
      }
    },
    {
      "cell_type": "code",
      "source": [
        "class Test5:\n",
        "  def __init__(self):\n",
        "    self.sum = 0\n",
        "    self.y = 0\n",
        "  def methodA(self):\n",
        "    x=y=k=0\n",
        "    msg = [5]\n",
        "    while (k < 2):\n",
        "      y += msg[0]\n",
        "      x = y + self.methodB(msg, k)\n",
        "      self.sum = x + y + msg[0]\n",
        "      print(x ,\" \" , y, \" \" , self.sum)\n",
        "      k+=1\n",
        "  def methodB(self, mg2, mg1):\n",
        "    x = 0\n",
        "    self.y += mg2[0]\n",
        "    x = x + 3 + mg1\n",
        "    self.sum += x + self.y\n",
        "    mg2[0] = self.y + mg1\n",
        "    mg1 += x + 2\n",
        "    print(x , \" \" ,self.y, \" \" , self.sum)\n",
        "    return mg1\n",
        "t1 = Test5()\n",
        "t1.methodA()\n",
        "t1.methodA()\n",
        "t1.methodA()"
      ],
      "metadata": {
        "id": "UieZL--dgPZd",
        "colab": {
          "base_uri": "https://localhost:8080/"
        },
        "outputId": "25fc4d88-5a77-4230-f3e6-dcf16bb12413"
      },
      "execution_count": null,
      "outputs": [
        {
          "output_type": "stream",
          "name": "stdout",
          "text": [
            "3   5   8\n",
            "10   5   20\n",
            "4   10   34\n",
            "17   10   38\n",
            "3   15   56\n",
            "10   5   30\n",
            "4   30   64\n",
            "27   20   78\n",
            "3   35   116\n",
            "10   5   50\n",
            "4   70   124\n",
            "47   40   158\n"
          ]
        }
      ]
    },
    {
      "cell_type": "markdown",
      "source": [
        "# Task 19"
      ],
      "metadata": {
        "id": "BHqaOzM-gxwF"
      }
    },
    {
      "cell_type": "code",
      "source": [
        "class msgClass:\n",
        "  def __init__(self):\n",
        "    self.content = 0\n",
        "class Q5:\n",
        "  def __init__(self):\n",
        "    self.sum = 1\n",
        "    self.x = 2\n",
        "    self.y = 3\n",
        "  def methodA(self):\n",
        "    x, y = 1, 1\n",
        "    msg = []\n",
        "    myMsg = msgClass()\n",
        "    myMsg.content = self.x\n",
        "    msg.append(myMsg)\n",
        "    msg[0].content = self.y + myMsg.content\n",
        "    self.y = self.y + self.methodB(msg[0])\n",
        "    y = self.methodB(msg[0]) + self.y\n",
        "    x = y + self.methodB(msg[0], msg)\n",
        "    self.sum = x + y + msg[0].content\n",
        "    print(x,\" \", y,\" \", self.sum)\n",
        "  def methodB(self, mg1, mg2 = None):\n",
        "    if mg2 == None:\n",
        "      x, y = 5, 6\n",
        "      y = self.sum + mg1.content\n",
        "      self.y = y + mg1.content\n",
        "      x = self.x + 7 +mg1.content\n",
        "      self.sum = self.sum + x + y\n",
        "      self.x = mg1.content + x +8\n",
        "      print(x, \" \", y,\" \", self.sum)\n",
        "      return y\n",
        "    else:\n",
        "      x = 1\n",
        "      self.y += mg2[0].content\n",
        "      mg2[0].content = self.y + mg1.content\n",
        "      x = x + 4 + mg1.content\n",
        "      self.sum += x + self.y\n",
        "      mg1.content = self.sum - mg2[0].content\n",
        "      print(self.x, \" \",self.y,\" \", self.sum)\n",
        "      return self.sum\n",
        "\n",
        "q = Q5()\n",
        "q.methodA()"
      ],
      "metadata": {
        "colab": {
          "base_uri": "https://localhost:8080/"
        },
        "id": "aj4262y-gwcg",
        "outputId": "12f5e12f-4509-4b20-d631-d6d2c3e6e69a"
      },
      "execution_count": null,
      "outputs": [
        {
          "output_type": "stream",
          "name": "stdout",
          "text": [
            "14   6   21\n",
            "39   26   86\n",
            "52   36   168\n",
            "225   57   409\n"
          ]
        }
      ]
    },
    {
      "cell_type": "markdown",
      "source": [
        "# Task 20"
      ],
      "metadata": {
        "id": "8qUcfRWbQK0U"
      }
    },
    {
      "cell_type": "code",
      "source": [
        "class Student:\n",
        "  def __init__(self,name=False,dept=False):\n",
        "    if name==False and dept==False:\n",
        "      print(\"Student name and department need to be set\")\n",
        "    elif name and dept==False:\n",
        "      print(\"Department for Carol needs to be set\")\n",
        "    elif dept and name==False:\n",
        "      print(\"Name needs to be set\")\n",
        "    else:\n",
        "      print(f\"{name} is from {dept} department\")\n",
        "    self.name = name\n",
        "    self.dept = dept\n",
        "    self.subs = []\n",
        "\n",
        "  def update_name(self,name):\n",
        "    self.name = name\n",
        "\n",
        "  def update_department(self,dept):\n",
        "    self.dept = dept\n",
        "\n",
        "  def enroll(self,*subs):\n",
        "    for sub in subs: self.subs.append(sub) \n",
        "\n",
        "  def printDetail(self):\n",
        "    container = ''\n",
        "    for sub in self.subs: container+= sub + ', '\n",
        "    print(f\"Name: {self.name}\")\n",
        "    print(f\"Department: {self.dept}\")\n",
        "    print(f\"Bob enrolled in {len(self.subs)} course(s):\")\n",
        "    print(f\"{container[:-2:]}\")\n",
        "\n",
        "s1 = Student()\n",
        "print(\"=========================\")\n",
        "s2 = Student(\"Carol\")\n",
        "print(\"=========================\")\n",
        "s3 = Student(\"Jon\", \"EEE\")\n",
        "print(\"=========================\")\n",
        "s1.update_name(\"Bob\")\n",
        "s1.update_department(\"CSE\")\n",
        "s2.update_department(\"BBA\")\n",
        "s1.enroll(\"CSE110\", \"MAT110\", \"ENG091\")\n",
        "s2.enroll(\"BUS101\")\n",
        "s3.enroll(\"MAT110\", \"PHY111\")\n",
        "print(\"###########################\")\n",
        "s1.printDetail()\n",
        "print(\"=========================\")\n",
        "s2.printDetail()\n",
        "print(\"=========================\")\n",
        "s3.printDetail()\n",
        "\n",
        "# Output\n",
        "# Student name and department need to be set\n",
        "# =========================\n",
        "# Department for Carol needs to be set\n",
        "# =========================\n",
        "# Jon is from EEE department\n",
        "# =========================\n",
        "# ###########################\n",
        "# Name: Bob\n",
        "# Department: CSE\n",
        "# Bob enrolled in 3 course(s):\n",
        "# CSE110, MAT110, ENG091\n",
        "# =========================\n",
        "# Name: Carol\n",
        "# Department: BBA\n",
        "# Carol enrolled in 1 course(s):\n",
        "# BUS101\n",
        "# =========================\n",
        "# Name: Jon\n",
        "# Department: EEE\n",
        "# Jon enrolled in 2 course(s):\n",
        "# MAT110, PHY111"
      ],
      "metadata": {
        "colab": {
          "base_uri": "https://localhost:8080/"
        },
        "id": "jtLmsiNtP57J",
        "outputId": "1388fa98-26bb-4836-b1d5-7f88fa8c9a3a"
      },
      "execution_count": null,
      "outputs": [
        {
          "output_type": "stream",
          "name": "stdout",
          "text": [
            "Student name and department need to be set\n",
            "=========================\n",
            "Department for Carol needs to be set\n",
            "=========================\n",
            "Jon is from EEE department\n",
            "=========================\n",
            "###########################\n",
            "Name: Bob\n",
            "Department: CSE\n",
            "Bob enrolled in 3 course(s):\n",
            "CSE110, MAT110, ENG091\n",
            "=========================\n",
            "Name: Carol\n",
            "Department: BBA\n",
            "Bob enrolled in 1 course(s):\n",
            "BUS101\n",
            "=========================\n",
            "Name: Jon\n",
            "Department: EEE\n",
            "Bob enrolled in 2 course(s):\n",
            "MAT110, PHY111\n"
          ]
        }
      ]
    },
    {
      "cell_type": "markdown",
      "source": [
        "# Task 21"
      ],
      "metadata": {
        "id": "vqWENlLcQP_r"
      }
    },
    {
      "cell_type": "code",
      "source": [
        ""
      ],
      "metadata": {
        "id": "7_KiXCIcP65I"
      },
      "execution_count": null,
      "outputs": []
    },
    {
      "cell_type": "markdown",
      "source": [
        "# Task 22"
      ],
      "metadata": {
        "id": "xGUTrQVJQSmL"
      }
    },
    {
      "cell_type": "code",
      "source": [
        ""
      ],
      "metadata": {
        "id": "t8hMXqMLP7Qu"
      },
      "execution_count": null,
      "outputs": []
    },
    {
      "cell_type": "markdown",
      "source": [
        "# Task 23"
      ],
      "metadata": {
        "id": "K4og09jQQXgX"
      }
    },
    {
      "cell_type": "code",
      "source": [
        ""
      ],
      "metadata": {
        "id": "5ZZbV5PUP7lF"
      },
      "execution_count": null,
      "outputs": []
    },
    {
      "cell_type": "markdown",
      "source": [
        "# Task 24"
      ],
      "metadata": {
        "id": "qmkqsFJ7QaXU"
      }
    },
    {
      "cell_type": "code",
      "source": [
        ""
      ],
      "metadata": {
        "id": "jGDmGNwTQWcH"
      },
      "execution_count": null,
      "outputs": []
    },
    {
      "cell_type": "markdown",
      "source": [
        "# Task 25"
      ],
      "metadata": {
        "id": "9HCbdr0FQd0H"
      }
    },
    {
      "cell_type": "code",
      "source": [
        ""
      ],
      "metadata": {
        "id": "90IVfnsvQdYc"
      },
      "execution_count": null,
      "outputs": []
    }
  ]
}